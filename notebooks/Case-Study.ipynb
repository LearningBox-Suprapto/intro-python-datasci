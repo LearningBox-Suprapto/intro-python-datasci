{
 "cells": [
  {
   "cell_type": "markdown",
   "metadata": {},
   "source": [
    "# Case Study"
   ]
  },
  {
   "cell_type": "markdown",
   "metadata": {},
   "source": [
    "## Part 1\n",
    "*To be completed at the conclusion of Day 1*"
   ]
  },
  {
   "cell_type": "markdown",
   "metadata": {},
   "source": [
    "For the following exercises, you should use the data stored at `../data/companies.csv`\n",
    "You aren't expected to finish all the exercises; just get through as many as time allows and we will review them together.\n",
    "\n",
    "1. Start by becoming familiar with the data. How many rows and how many columns does it have? What are the data types of the columns?\n",
    "2. Set the data's index to be the \"Symbol\" column.\n",
    "3. Look up the company with the symbol NCLH. What company is this? What sector is it in?\n",
    "4. Filter down to companies that *either* in the \"Consumer Discretionary\" or the \"Consumer Technology\" sector.\n",
    "5. How many companies are left in the data now?\n",
    "6. Create a new column, \"Symbol_Length\", that is the length of the symbol of each company.\n",
    "7. Find the company named \"Kroger Co.\". Change its name to \"The Kroger Company\"."
   ]
  },
  {
   "cell_type": "markdown",
   "metadata": {},
   "source": [
    "**Bonus**: *For these two exercises, you won't find examples of the solution in our notebooks.\n",
    "You'll need to search for help on the internet.*\n",
    "\n",
    "*Don't worry if you aren't able to solve them.*\n",
    "\n",
    "1. Filter down to companies whose symbol starts with A. How many companies meet this criterion?\n",
    "2. What is the longest company name remaining in the dataset? You could just search the data visually, but try to find a programmatic solution."
   ]
  },
  {
   "cell_type": "markdown",
   "metadata": {},
   "source": [
    "## Part 2\n",
    "*To be completed at the conclusion of Day 2*"
   ]
  },
  {
   "cell_type": "markdown",
   "metadata": {},
   "source": [
    "This section again uses the data at `../data/companies.csv`.\n",
    "\n",
    "1. Re-create the \"Symbol_Length\" column (see above).\n",
    "2. What is the average symbol length of companies in the data set?\n",
    "3. What is the average symbol length by sector? That is, after grouping by sector, what is the average symbol length for each group?\n",
    "4. How long is the longest company name? How long is the longest company name by sector?"
   ]
  },
  {
   "cell_type": "code",
   "execution_count": null,
   "metadata": {},
   "outputs": [],
   "source": []
  },
  {
   "cell_type": "code",
   "execution_count": null,
   "metadata": {},
   "outputs": [],
   "source": []
  }
 ],
 "metadata": {
  "kernelspec": {
   "display_name": "ad_hoc",
   "language": "python",
   "name": "ad_hoc"
  },
  "language_info": {
   "codemirror_mode": {
    "name": "ipython",
    "version": 3
   },
   "file_extension": ".py",
   "mimetype": "text/x-python",
   "name": "python",
   "nbconvert_exporter": "python",
   "pygments_lexer": "ipython3",
   "version": "3.7.3"
  }
 },
 "nbformat": 4,
 "nbformat_minor": 2
}
