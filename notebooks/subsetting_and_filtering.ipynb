{
 "cells": [
  {
   "cell_type": "markdown",
   "metadata": {},
   "source": [
    "# Subsetting and Filtering"
   ]
  },
  {
   "cell_type": "markdown",
   "metadata": {},
   "source": [
    "> “Every second of every day, our senses bring in way too much data than we can possibly process in our brains.”\n",
    ">\n",
    "> \\- Peter Diamandis, Founder of the X-Prize for human-AI collaboration"
   ]
  },
  {
   "cell_type": "markdown",
   "metadata": {},
   "source": [
    "## Applied Review"
   ]
  },
  {
   "cell_type": "markdown",
   "metadata": {},
   "source": [
    "### Data Structures and the DataFrame Class\n",
    "\n",
    "* Data is frequently represented inside a **DataFrame** - a class from the `pandas` library that is similar to a *table* or *dataset*\n",
    "* Each DataFrame object has rows and columns\n",
    "* The DataFrame class has methods (built-in operations) for common tasks and attributes (stored data) of common information\n",
    "* Other structures exist, too - dicts, models, etc."
   ]
  },
  {
   "cell_type": "markdown",
   "metadata": {},
   "source": [
    "### Importing Data\n",
    "\n",
    "* Tabular data can be imported into DataFrames using the `pd.read_csv()` function - there are parameters for different options\n",
    "* Other data formats like JSON (key-value pairs) and Pickle (native Python) can be imported using the `with` statement and respective functions:\n",
    "  * JSON files use the `load()` function from the `json` library\n",
    "  * Pickle files use the `load()` function from the `pickle` library"
   ]
  },
  {
   "cell_type": "code",
   "execution_count": 1,
   "metadata": {},
   "outputs": [],
   "source": [
    "import pandas as pd\n",
    "planes_df = pd.read_csv('../data/planes.csv')"
   ]
  },
  {
   "cell_type": "markdown",
   "metadata": {},
   "source": [
    "## General Model\n",
    "\n",
    "### Subsetting Framework\n",
    "\n",
    "* We don't always want all of the data in a DataFrame, so we need to take subsets of the DataFrame.\n",
    "* In general, **subsetting** is extracting a small portion of a DataFrame.\n",
    "* Since the DataFrame is two-dimensional, there are two dimensions on which to subset."
   ]
  },
  {
   "cell_type": "markdown",
   "metadata": {},
   "source": [
    "**Option 1:** We may only want to consider certain *variables*.\n",
    "\n",
    "For example, we may only care about the `year` and `engines` variables:"
   ]
  },
  {
   "cell_type": "code",
   "execution_count": 2,
   "metadata": {},
   "outputs": [
    {
     "data": {
      "text/html": [
       "<style  type=\"text/css\" >\n",
       "    #T_aea67978_5efb_11e9_a994_88e9fe5c145arow0_col1 {\n",
       "            background:  lightblue;\n",
       "        }    #T_aea67978_5efb_11e9_a994_88e9fe5c145arow0_col5 {\n",
       "            background:  lightblue;\n",
       "        }    #T_aea67978_5efb_11e9_a994_88e9fe5c145arow1_col1 {\n",
       "            background:  lightblue;\n",
       "        }    #T_aea67978_5efb_11e9_a994_88e9fe5c145arow1_col5 {\n",
       "            background:  lightblue;\n",
       "        }    #T_aea67978_5efb_11e9_a994_88e9fe5c145arow2_col1 {\n",
       "            background:  lightblue;\n",
       "        }    #T_aea67978_5efb_11e9_a994_88e9fe5c145arow2_col5 {\n",
       "            background:  lightblue;\n",
       "        }    #T_aea67978_5efb_11e9_a994_88e9fe5c145arow3_col1 {\n",
       "            background:  lightblue;\n",
       "        }    #T_aea67978_5efb_11e9_a994_88e9fe5c145arow3_col5 {\n",
       "            background:  lightblue;\n",
       "        }    #T_aea67978_5efb_11e9_a994_88e9fe5c145arow4_col1 {\n",
       "            background:  lightblue;\n",
       "        }    #T_aea67978_5efb_11e9_a994_88e9fe5c145arow4_col5 {\n",
       "            background:  lightblue;\n",
       "        }</style>  \n",
       "<table id=\"T_aea67978_5efb_11e9_a994_88e9fe5c145a\" > \n",
       "<thead>    <tr> \n",
       "        <th class=\"blank level0\" ></th> \n",
       "        <th class=\"col_heading level0 col0\" >tailnum</th> \n",
       "        <th class=\"col_heading level0 col1\" >year</th> \n",
       "        <th class=\"col_heading level0 col2\" >type</th> \n",
       "        <th class=\"col_heading level0 col3\" >manufacturer</th> \n",
       "        <th class=\"col_heading level0 col4\" >model</th> \n",
       "        <th class=\"col_heading level0 col5\" >engines</th> \n",
       "        <th class=\"col_heading level0 col6\" >seats</th> \n",
       "        <th class=\"col_heading level0 col7\" >speed</th> \n",
       "        <th class=\"col_heading level0 col8\" >engine</th> \n",
       "    </tr></thead> \n",
       "<tbody>    <tr> \n",
       "        <th id=\"T_aea67978_5efb_11e9_a994_88e9fe5c145alevel0_row0\" class=\"row_heading level0 row0\" >0</th> \n",
       "        <td id=\"T_aea67978_5efb_11e9_a994_88e9fe5c145arow0_col0\" class=\"data row0 col0\" >N10156</td> \n",
       "        <td id=\"T_aea67978_5efb_11e9_a994_88e9fe5c145arow0_col1\" class=\"data row0 col1\" >2004</td> \n",
       "        <td id=\"T_aea67978_5efb_11e9_a994_88e9fe5c145arow0_col2\" class=\"data row0 col2\" >Fixed wing multi engine</td> \n",
       "        <td id=\"T_aea67978_5efb_11e9_a994_88e9fe5c145arow0_col3\" class=\"data row0 col3\" >EMBRAER</td> \n",
       "        <td id=\"T_aea67978_5efb_11e9_a994_88e9fe5c145arow0_col4\" class=\"data row0 col4\" >EMB-145XR</td> \n",
       "        <td id=\"T_aea67978_5efb_11e9_a994_88e9fe5c145arow0_col5\" class=\"data row0 col5\" >2</td> \n",
       "        <td id=\"T_aea67978_5efb_11e9_a994_88e9fe5c145arow0_col6\" class=\"data row0 col6\" >55</td> \n",
       "        <td id=\"T_aea67978_5efb_11e9_a994_88e9fe5c145arow0_col7\" class=\"data row0 col7\" >nan</td> \n",
       "        <td id=\"T_aea67978_5efb_11e9_a994_88e9fe5c145arow0_col8\" class=\"data row0 col8\" >Turbo-fan</td> \n",
       "    </tr>    <tr> \n",
       "        <th id=\"T_aea67978_5efb_11e9_a994_88e9fe5c145alevel0_row1\" class=\"row_heading level0 row1\" >1</th> \n",
       "        <td id=\"T_aea67978_5efb_11e9_a994_88e9fe5c145arow1_col0\" class=\"data row1 col0\" >N102UW</td> \n",
       "        <td id=\"T_aea67978_5efb_11e9_a994_88e9fe5c145arow1_col1\" class=\"data row1 col1\" >1998</td> \n",
       "        <td id=\"T_aea67978_5efb_11e9_a994_88e9fe5c145arow1_col2\" class=\"data row1 col2\" >Fixed wing multi engine</td> \n",
       "        <td id=\"T_aea67978_5efb_11e9_a994_88e9fe5c145arow1_col3\" class=\"data row1 col3\" >AIRBUS INDUSTRIE</td> \n",
       "        <td id=\"T_aea67978_5efb_11e9_a994_88e9fe5c145arow1_col4\" class=\"data row1 col4\" >A320-214</td> \n",
       "        <td id=\"T_aea67978_5efb_11e9_a994_88e9fe5c145arow1_col5\" class=\"data row1 col5\" >2</td> \n",
       "        <td id=\"T_aea67978_5efb_11e9_a994_88e9fe5c145arow1_col6\" class=\"data row1 col6\" >182</td> \n",
       "        <td id=\"T_aea67978_5efb_11e9_a994_88e9fe5c145arow1_col7\" class=\"data row1 col7\" >nan</td> \n",
       "        <td id=\"T_aea67978_5efb_11e9_a994_88e9fe5c145arow1_col8\" class=\"data row1 col8\" >Turbo-fan</td> \n",
       "    </tr>    <tr> \n",
       "        <th id=\"T_aea67978_5efb_11e9_a994_88e9fe5c145alevel0_row2\" class=\"row_heading level0 row2\" >2</th> \n",
       "        <td id=\"T_aea67978_5efb_11e9_a994_88e9fe5c145arow2_col0\" class=\"data row2 col0\" >N103US</td> \n",
       "        <td id=\"T_aea67978_5efb_11e9_a994_88e9fe5c145arow2_col1\" class=\"data row2 col1\" >1999</td> \n",
       "        <td id=\"T_aea67978_5efb_11e9_a994_88e9fe5c145arow2_col2\" class=\"data row2 col2\" >Fixed wing multi engine</td> \n",
       "        <td id=\"T_aea67978_5efb_11e9_a994_88e9fe5c145arow2_col3\" class=\"data row2 col3\" >AIRBUS INDUSTRIE</td> \n",
       "        <td id=\"T_aea67978_5efb_11e9_a994_88e9fe5c145arow2_col4\" class=\"data row2 col4\" >A320-214</td> \n",
       "        <td id=\"T_aea67978_5efb_11e9_a994_88e9fe5c145arow2_col5\" class=\"data row2 col5\" >2</td> \n",
       "        <td id=\"T_aea67978_5efb_11e9_a994_88e9fe5c145arow2_col6\" class=\"data row2 col6\" >182</td> \n",
       "        <td id=\"T_aea67978_5efb_11e9_a994_88e9fe5c145arow2_col7\" class=\"data row2 col7\" >nan</td> \n",
       "        <td id=\"T_aea67978_5efb_11e9_a994_88e9fe5c145arow2_col8\" class=\"data row2 col8\" >Turbo-fan</td> \n",
       "    </tr>    <tr> \n",
       "        <th id=\"T_aea67978_5efb_11e9_a994_88e9fe5c145alevel0_row3\" class=\"row_heading level0 row3\" >3</th> \n",
       "        <td id=\"T_aea67978_5efb_11e9_a994_88e9fe5c145arow3_col0\" class=\"data row3 col0\" >N104UW</td> \n",
       "        <td id=\"T_aea67978_5efb_11e9_a994_88e9fe5c145arow3_col1\" class=\"data row3 col1\" >1999</td> \n",
       "        <td id=\"T_aea67978_5efb_11e9_a994_88e9fe5c145arow3_col2\" class=\"data row3 col2\" >Fixed wing multi engine</td> \n",
       "        <td id=\"T_aea67978_5efb_11e9_a994_88e9fe5c145arow3_col3\" class=\"data row3 col3\" >AIRBUS INDUSTRIE</td> \n",
       "        <td id=\"T_aea67978_5efb_11e9_a994_88e9fe5c145arow3_col4\" class=\"data row3 col4\" >A320-214</td> \n",
       "        <td id=\"T_aea67978_5efb_11e9_a994_88e9fe5c145arow3_col5\" class=\"data row3 col5\" >2</td> \n",
       "        <td id=\"T_aea67978_5efb_11e9_a994_88e9fe5c145arow3_col6\" class=\"data row3 col6\" >182</td> \n",
       "        <td id=\"T_aea67978_5efb_11e9_a994_88e9fe5c145arow3_col7\" class=\"data row3 col7\" >nan</td> \n",
       "        <td id=\"T_aea67978_5efb_11e9_a994_88e9fe5c145arow3_col8\" class=\"data row3 col8\" >Turbo-fan</td> \n",
       "    </tr>    <tr> \n",
       "        <th id=\"T_aea67978_5efb_11e9_a994_88e9fe5c145alevel0_row4\" class=\"row_heading level0 row4\" >4</th> \n",
       "        <td id=\"T_aea67978_5efb_11e9_a994_88e9fe5c145arow4_col0\" class=\"data row4 col0\" >N10575</td> \n",
       "        <td id=\"T_aea67978_5efb_11e9_a994_88e9fe5c145arow4_col1\" class=\"data row4 col1\" >2002</td> \n",
       "        <td id=\"T_aea67978_5efb_11e9_a994_88e9fe5c145arow4_col2\" class=\"data row4 col2\" >Fixed wing multi engine</td> \n",
       "        <td id=\"T_aea67978_5efb_11e9_a994_88e9fe5c145arow4_col3\" class=\"data row4 col3\" >EMBRAER</td> \n",
       "        <td id=\"T_aea67978_5efb_11e9_a994_88e9fe5c145arow4_col4\" class=\"data row4 col4\" >EMB-145LR</td> \n",
       "        <td id=\"T_aea67978_5efb_11e9_a994_88e9fe5c145arow4_col5\" class=\"data row4 col5\" >2</td> \n",
       "        <td id=\"T_aea67978_5efb_11e9_a994_88e9fe5c145arow4_col6\" class=\"data row4 col6\" >55</td> \n",
       "        <td id=\"T_aea67978_5efb_11e9_a994_88e9fe5c145arow4_col7\" class=\"data row4 col7\" >nan</td> \n",
       "        <td id=\"T_aea67978_5efb_11e9_a994_88e9fe5c145arow4_col8\" class=\"data row4 col8\" >Turbo-fan</td> \n",
       "    </tr></tbody> \n",
       "</table> "
      ],
      "text/plain": [
       "<pandas.io.formats.style.Styler at 0x10d46f4a8>"
      ]
     },
     "execution_count": 2,
     "metadata": {},
     "output_type": "execute_result"
    }
   ],
   "source": [
    "planes_df.head().style.apply(lambda x: ['background: lightblue' if x.name == 'engines' or x.name == 'year' else '' for i,_ in x.iteritems()])"
   ]
  },
  {
   "cell_type": "markdown",
   "metadata": {},
   "source": [
    "We call this **selecting** columns/variables -- this is similar SQL's `SELECT` or R's dplyr package's `select()`."
   ]
  },
  {
   "cell_type": "markdown",
   "metadata": {},
   "source": [
    "**Option 2:** We may only want to consider certain *cases*.\n",
    "\n",
    "For example, we may only care about the cases where the manufacturer is Embraer."
   ]
  },
  {
   "cell_type": "code",
   "execution_count": 3,
   "metadata": {},
   "outputs": [
    {
     "data": {
      "text/html": [
       "<style  type=\"text/css\" >\n",
       "    #T_aeadd43e_5efb_11e9_bf36_88e9fe5c145arow0_col0 {\n",
       "            background:  lightgreen;\n",
       "        }    #T_aeadd43e_5efb_11e9_bf36_88e9fe5c145arow0_col1 {\n",
       "            background:  lightgreen;\n",
       "        }    #T_aeadd43e_5efb_11e9_bf36_88e9fe5c145arow0_col2 {\n",
       "            background:  lightgreen;\n",
       "        }    #T_aeadd43e_5efb_11e9_bf36_88e9fe5c145arow0_col3 {\n",
       "            background:  lightgreen;\n",
       "        }    #T_aeadd43e_5efb_11e9_bf36_88e9fe5c145arow0_col4 {\n",
       "            background:  lightgreen;\n",
       "        }    #T_aeadd43e_5efb_11e9_bf36_88e9fe5c145arow0_col5 {\n",
       "            background:  lightgreen;\n",
       "        }    #T_aeadd43e_5efb_11e9_bf36_88e9fe5c145arow0_col6 {\n",
       "            background:  lightgreen;\n",
       "        }    #T_aeadd43e_5efb_11e9_bf36_88e9fe5c145arow0_col7 {\n",
       "            background:  lightgreen;\n",
       "        }    #T_aeadd43e_5efb_11e9_bf36_88e9fe5c145arow0_col8 {\n",
       "            background:  lightgreen;\n",
       "        }    #T_aeadd43e_5efb_11e9_bf36_88e9fe5c145arow4_col0 {\n",
       "            background:  lightgreen;\n",
       "        }    #T_aeadd43e_5efb_11e9_bf36_88e9fe5c145arow4_col1 {\n",
       "            background:  lightgreen;\n",
       "        }    #T_aeadd43e_5efb_11e9_bf36_88e9fe5c145arow4_col2 {\n",
       "            background:  lightgreen;\n",
       "        }    #T_aeadd43e_5efb_11e9_bf36_88e9fe5c145arow4_col3 {\n",
       "            background:  lightgreen;\n",
       "        }    #T_aeadd43e_5efb_11e9_bf36_88e9fe5c145arow4_col4 {\n",
       "            background:  lightgreen;\n",
       "        }    #T_aeadd43e_5efb_11e9_bf36_88e9fe5c145arow4_col5 {\n",
       "            background:  lightgreen;\n",
       "        }    #T_aeadd43e_5efb_11e9_bf36_88e9fe5c145arow4_col6 {\n",
       "            background:  lightgreen;\n",
       "        }    #T_aeadd43e_5efb_11e9_bf36_88e9fe5c145arow4_col7 {\n",
       "            background:  lightgreen;\n",
       "        }    #T_aeadd43e_5efb_11e9_bf36_88e9fe5c145arow4_col8 {\n",
       "            background:  lightgreen;\n",
       "        }</style>  \n",
       "<table id=\"T_aeadd43e_5efb_11e9_bf36_88e9fe5c145a\" > \n",
       "<thead>    <tr> \n",
       "        <th class=\"blank level0\" ></th> \n",
       "        <th class=\"col_heading level0 col0\" >tailnum</th> \n",
       "        <th class=\"col_heading level0 col1\" >year</th> \n",
       "        <th class=\"col_heading level0 col2\" >type</th> \n",
       "        <th class=\"col_heading level0 col3\" >manufacturer</th> \n",
       "        <th class=\"col_heading level0 col4\" >model</th> \n",
       "        <th class=\"col_heading level0 col5\" >engines</th> \n",
       "        <th class=\"col_heading level0 col6\" >seats</th> \n",
       "        <th class=\"col_heading level0 col7\" >speed</th> \n",
       "        <th class=\"col_heading level0 col8\" >engine</th> \n",
       "    </tr></thead> \n",
       "<tbody>    <tr> \n",
       "        <th id=\"T_aeadd43e_5efb_11e9_bf36_88e9fe5c145alevel0_row0\" class=\"row_heading level0 row0\" >0</th> \n",
       "        <td id=\"T_aeadd43e_5efb_11e9_bf36_88e9fe5c145arow0_col0\" class=\"data row0 col0\" >N10156</td> \n",
       "        <td id=\"T_aeadd43e_5efb_11e9_bf36_88e9fe5c145arow0_col1\" class=\"data row0 col1\" >2004</td> \n",
       "        <td id=\"T_aeadd43e_5efb_11e9_bf36_88e9fe5c145arow0_col2\" class=\"data row0 col2\" >Fixed wing multi engine</td> \n",
       "        <td id=\"T_aeadd43e_5efb_11e9_bf36_88e9fe5c145arow0_col3\" class=\"data row0 col3\" >EMBRAER</td> \n",
       "        <td id=\"T_aeadd43e_5efb_11e9_bf36_88e9fe5c145arow0_col4\" class=\"data row0 col4\" >EMB-145XR</td> \n",
       "        <td id=\"T_aeadd43e_5efb_11e9_bf36_88e9fe5c145arow0_col5\" class=\"data row0 col5\" >2</td> \n",
       "        <td id=\"T_aeadd43e_5efb_11e9_bf36_88e9fe5c145arow0_col6\" class=\"data row0 col6\" >55</td> \n",
       "        <td id=\"T_aeadd43e_5efb_11e9_bf36_88e9fe5c145arow0_col7\" class=\"data row0 col7\" >nan</td> \n",
       "        <td id=\"T_aeadd43e_5efb_11e9_bf36_88e9fe5c145arow0_col8\" class=\"data row0 col8\" >Turbo-fan</td> \n",
       "    </tr>    <tr> \n",
       "        <th id=\"T_aeadd43e_5efb_11e9_bf36_88e9fe5c145alevel0_row1\" class=\"row_heading level0 row1\" >1</th> \n",
       "        <td id=\"T_aeadd43e_5efb_11e9_bf36_88e9fe5c145arow1_col0\" class=\"data row1 col0\" >N102UW</td> \n",
       "        <td id=\"T_aeadd43e_5efb_11e9_bf36_88e9fe5c145arow1_col1\" class=\"data row1 col1\" >1998</td> \n",
       "        <td id=\"T_aeadd43e_5efb_11e9_bf36_88e9fe5c145arow1_col2\" class=\"data row1 col2\" >Fixed wing multi engine</td> \n",
       "        <td id=\"T_aeadd43e_5efb_11e9_bf36_88e9fe5c145arow1_col3\" class=\"data row1 col3\" >AIRBUS INDUSTRIE</td> \n",
       "        <td id=\"T_aeadd43e_5efb_11e9_bf36_88e9fe5c145arow1_col4\" class=\"data row1 col4\" >A320-214</td> \n",
       "        <td id=\"T_aeadd43e_5efb_11e9_bf36_88e9fe5c145arow1_col5\" class=\"data row1 col5\" >2</td> \n",
       "        <td id=\"T_aeadd43e_5efb_11e9_bf36_88e9fe5c145arow1_col6\" class=\"data row1 col6\" >182</td> \n",
       "        <td id=\"T_aeadd43e_5efb_11e9_bf36_88e9fe5c145arow1_col7\" class=\"data row1 col7\" >nan</td> \n",
       "        <td id=\"T_aeadd43e_5efb_11e9_bf36_88e9fe5c145arow1_col8\" class=\"data row1 col8\" >Turbo-fan</td> \n",
       "    </tr>    <tr> \n",
       "        <th id=\"T_aeadd43e_5efb_11e9_bf36_88e9fe5c145alevel0_row2\" class=\"row_heading level0 row2\" >2</th> \n",
       "        <td id=\"T_aeadd43e_5efb_11e9_bf36_88e9fe5c145arow2_col0\" class=\"data row2 col0\" >N103US</td> \n",
       "        <td id=\"T_aeadd43e_5efb_11e9_bf36_88e9fe5c145arow2_col1\" class=\"data row2 col1\" >1999</td> \n",
       "        <td id=\"T_aeadd43e_5efb_11e9_bf36_88e9fe5c145arow2_col2\" class=\"data row2 col2\" >Fixed wing multi engine</td> \n",
       "        <td id=\"T_aeadd43e_5efb_11e9_bf36_88e9fe5c145arow2_col3\" class=\"data row2 col3\" >AIRBUS INDUSTRIE</td> \n",
       "        <td id=\"T_aeadd43e_5efb_11e9_bf36_88e9fe5c145arow2_col4\" class=\"data row2 col4\" >A320-214</td> \n",
       "        <td id=\"T_aeadd43e_5efb_11e9_bf36_88e9fe5c145arow2_col5\" class=\"data row2 col5\" >2</td> \n",
       "        <td id=\"T_aeadd43e_5efb_11e9_bf36_88e9fe5c145arow2_col6\" class=\"data row2 col6\" >182</td> \n",
       "        <td id=\"T_aeadd43e_5efb_11e9_bf36_88e9fe5c145arow2_col7\" class=\"data row2 col7\" >nan</td> \n",
       "        <td id=\"T_aeadd43e_5efb_11e9_bf36_88e9fe5c145arow2_col8\" class=\"data row2 col8\" >Turbo-fan</td> \n",
       "    </tr>    <tr> \n",
       "        <th id=\"T_aeadd43e_5efb_11e9_bf36_88e9fe5c145alevel0_row3\" class=\"row_heading level0 row3\" >3</th> \n",
       "        <td id=\"T_aeadd43e_5efb_11e9_bf36_88e9fe5c145arow3_col0\" class=\"data row3 col0\" >N104UW</td> \n",
       "        <td id=\"T_aeadd43e_5efb_11e9_bf36_88e9fe5c145arow3_col1\" class=\"data row3 col1\" >1999</td> \n",
       "        <td id=\"T_aeadd43e_5efb_11e9_bf36_88e9fe5c145arow3_col2\" class=\"data row3 col2\" >Fixed wing multi engine</td> \n",
       "        <td id=\"T_aeadd43e_5efb_11e9_bf36_88e9fe5c145arow3_col3\" class=\"data row3 col3\" >AIRBUS INDUSTRIE</td> \n",
       "        <td id=\"T_aeadd43e_5efb_11e9_bf36_88e9fe5c145arow3_col4\" class=\"data row3 col4\" >A320-214</td> \n",
       "        <td id=\"T_aeadd43e_5efb_11e9_bf36_88e9fe5c145arow3_col5\" class=\"data row3 col5\" >2</td> \n",
       "        <td id=\"T_aeadd43e_5efb_11e9_bf36_88e9fe5c145arow3_col6\" class=\"data row3 col6\" >182</td> \n",
       "        <td id=\"T_aeadd43e_5efb_11e9_bf36_88e9fe5c145arow3_col7\" class=\"data row3 col7\" >nan</td> \n",
       "        <td id=\"T_aeadd43e_5efb_11e9_bf36_88e9fe5c145arow3_col8\" class=\"data row3 col8\" >Turbo-fan</td> \n",
       "    </tr>    <tr> \n",
       "        <th id=\"T_aeadd43e_5efb_11e9_bf36_88e9fe5c145alevel0_row4\" class=\"row_heading level0 row4\" >4</th> \n",
       "        <td id=\"T_aeadd43e_5efb_11e9_bf36_88e9fe5c145arow4_col0\" class=\"data row4 col0\" >N10575</td> \n",
       "        <td id=\"T_aeadd43e_5efb_11e9_bf36_88e9fe5c145arow4_col1\" class=\"data row4 col1\" >2002</td> \n",
       "        <td id=\"T_aeadd43e_5efb_11e9_bf36_88e9fe5c145arow4_col2\" class=\"data row4 col2\" >Fixed wing multi engine</td> \n",
       "        <td id=\"T_aeadd43e_5efb_11e9_bf36_88e9fe5c145arow4_col3\" class=\"data row4 col3\" >EMBRAER</td> \n",
       "        <td id=\"T_aeadd43e_5efb_11e9_bf36_88e9fe5c145arow4_col4\" class=\"data row4 col4\" >EMB-145LR</td> \n",
       "        <td id=\"T_aeadd43e_5efb_11e9_bf36_88e9fe5c145arow4_col5\" class=\"data row4 col5\" >2</td> \n",
       "        <td id=\"T_aeadd43e_5efb_11e9_bf36_88e9fe5c145arow4_col6\" class=\"data row4 col6\" >55</td> \n",
       "        <td id=\"T_aeadd43e_5efb_11e9_bf36_88e9fe5c145arow4_col7\" class=\"data row4 col7\" >nan</td> \n",
       "        <td id=\"T_aeadd43e_5efb_11e9_bf36_88e9fe5c145arow4_col8\" class=\"data row4 col8\" >Turbo-fan</td> \n",
       "    </tr></tbody> \n",
       "</table> "
      ],
      "text/plain": [
       "<pandas.io.formats.style.Styler at 0x10d12d438>"
      ]
     },
     "execution_count": 3,
     "metadata": {},
     "output_type": "execute_result"
    }
   ],
   "source": [
    "planes_df.head().style.apply(lambda x: ['background: lightgreen' if i in [0, 4] else '' for i,_ in x.iteritems()])"
   ]
  },
  {
   "cell_type": "markdown",
   "metadata": {},
   "source": [
    "We call this **filtering** or **slicing** -- this is similar to SQL's `WHERE` or R's dplyr package's `filter()` or `slice()`."
   ]
  },
  {
   "cell_type": "markdown",
   "metadata": {},
   "source": [
    "And we can combine these two options to subset in both dimensions -- the `year` and `engines` variables where the manufacturer is Embraer:"
   ]
  },
  {
   "cell_type": "code",
   "execution_count": 4,
   "metadata": {},
   "outputs": [
    {
     "data": {
      "text/html": [
       "<style  type=\"text/css\" >\n",
       "    #T_aeb2591e_5efb_11e9_add4_88e9fe5c145arow0_col1 {\n",
       "            background:  teal;\n",
       "        }    #T_aeb2591e_5efb_11e9_add4_88e9fe5c145arow0_col5 {\n",
       "            background:  teal;\n",
       "        }    #T_aeb2591e_5efb_11e9_add4_88e9fe5c145arow4_col1 {\n",
       "            background:  teal;\n",
       "        }    #T_aeb2591e_5efb_11e9_add4_88e9fe5c145arow4_col5 {\n",
       "            background:  teal;\n",
       "        }</style>  \n",
       "<table id=\"T_aeb2591e_5efb_11e9_add4_88e9fe5c145a\" > \n",
       "<thead>    <tr> \n",
       "        <th class=\"blank level0\" ></th> \n",
       "        <th class=\"col_heading level0 col0\" >tailnum</th> \n",
       "        <th class=\"col_heading level0 col1\" >year</th> \n",
       "        <th class=\"col_heading level0 col2\" >type</th> \n",
       "        <th class=\"col_heading level0 col3\" >manufacturer</th> \n",
       "        <th class=\"col_heading level0 col4\" >model</th> \n",
       "        <th class=\"col_heading level0 col5\" >engines</th> \n",
       "        <th class=\"col_heading level0 col6\" >seats</th> \n",
       "        <th class=\"col_heading level0 col7\" >speed</th> \n",
       "        <th class=\"col_heading level0 col8\" >engine</th> \n",
       "    </tr></thead> \n",
       "<tbody>    <tr> \n",
       "        <th id=\"T_aeb2591e_5efb_11e9_add4_88e9fe5c145alevel0_row0\" class=\"row_heading level0 row0\" >0</th> \n",
       "        <td id=\"T_aeb2591e_5efb_11e9_add4_88e9fe5c145arow0_col0\" class=\"data row0 col0\" >N10156</td> \n",
       "        <td id=\"T_aeb2591e_5efb_11e9_add4_88e9fe5c145arow0_col1\" class=\"data row0 col1\" >2004</td> \n",
       "        <td id=\"T_aeb2591e_5efb_11e9_add4_88e9fe5c145arow0_col2\" class=\"data row0 col2\" >Fixed wing multi engine</td> \n",
       "        <td id=\"T_aeb2591e_5efb_11e9_add4_88e9fe5c145arow0_col3\" class=\"data row0 col3\" >EMBRAER</td> \n",
       "        <td id=\"T_aeb2591e_5efb_11e9_add4_88e9fe5c145arow0_col4\" class=\"data row0 col4\" >EMB-145XR</td> \n",
       "        <td id=\"T_aeb2591e_5efb_11e9_add4_88e9fe5c145arow0_col5\" class=\"data row0 col5\" >2</td> \n",
       "        <td id=\"T_aeb2591e_5efb_11e9_add4_88e9fe5c145arow0_col6\" class=\"data row0 col6\" >55</td> \n",
       "        <td id=\"T_aeb2591e_5efb_11e9_add4_88e9fe5c145arow0_col7\" class=\"data row0 col7\" >nan</td> \n",
       "        <td id=\"T_aeb2591e_5efb_11e9_add4_88e9fe5c145arow0_col8\" class=\"data row0 col8\" >Turbo-fan</td> \n",
       "    </tr>    <tr> \n",
       "        <th id=\"T_aeb2591e_5efb_11e9_add4_88e9fe5c145alevel0_row1\" class=\"row_heading level0 row1\" >1</th> \n",
       "        <td id=\"T_aeb2591e_5efb_11e9_add4_88e9fe5c145arow1_col0\" class=\"data row1 col0\" >N102UW</td> \n",
       "        <td id=\"T_aeb2591e_5efb_11e9_add4_88e9fe5c145arow1_col1\" class=\"data row1 col1\" >1998</td> \n",
       "        <td id=\"T_aeb2591e_5efb_11e9_add4_88e9fe5c145arow1_col2\" class=\"data row1 col2\" >Fixed wing multi engine</td> \n",
       "        <td id=\"T_aeb2591e_5efb_11e9_add4_88e9fe5c145arow1_col3\" class=\"data row1 col3\" >AIRBUS INDUSTRIE</td> \n",
       "        <td id=\"T_aeb2591e_5efb_11e9_add4_88e9fe5c145arow1_col4\" class=\"data row1 col4\" >A320-214</td> \n",
       "        <td id=\"T_aeb2591e_5efb_11e9_add4_88e9fe5c145arow1_col5\" class=\"data row1 col5\" >2</td> \n",
       "        <td id=\"T_aeb2591e_5efb_11e9_add4_88e9fe5c145arow1_col6\" class=\"data row1 col6\" >182</td> \n",
       "        <td id=\"T_aeb2591e_5efb_11e9_add4_88e9fe5c145arow1_col7\" class=\"data row1 col7\" >nan</td> \n",
       "        <td id=\"T_aeb2591e_5efb_11e9_add4_88e9fe5c145arow1_col8\" class=\"data row1 col8\" >Turbo-fan</td> \n",
       "    </tr>    <tr> \n",
       "        <th id=\"T_aeb2591e_5efb_11e9_add4_88e9fe5c145alevel0_row2\" class=\"row_heading level0 row2\" >2</th> \n",
       "        <td id=\"T_aeb2591e_5efb_11e9_add4_88e9fe5c145arow2_col0\" class=\"data row2 col0\" >N103US</td> \n",
       "        <td id=\"T_aeb2591e_5efb_11e9_add4_88e9fe5c145arow2_col1\" class=\"data row2 col1\" >1999</td> \n",
       "        <td id=\"T_aeb2591e_5efb_11e9_add4_88e9fe5c145arow2_col2\" class=\"data row2 col2\" >Fixed wing multi engine</td> \n",
       "        <td id=\"T_aeb2591e_5efb_11e9_add4_88e9fe5c145arow2_col3\" class=\"data row2 col3\" >AIRBUS INDUSTRIE</td> \n",
       "        <td id=\"T_aeb2591e_5efb_11e9_add4_88e9fe5c145arow2_col4\" class=\"data row2 col4\" >A320-214</td> \n",
       "        <td id=\"T_aeb2591e_5efb_11e9_add4_88e9fe5c145arow2_col5\" class=\"data row2 col5\" >2</td> \n",
       "        <td id=\"T_aeb2591e_5efb_11e9_add4_88e9fe5c145arow2_col6\" class=\"data row2 col6\" >182</td> \n",
       "        <td id=\"T_aeb2591e_5efb_11e9_add4_88e9fe5c145arow2_col7\" class=\"data row2 col7\" >nan</td> \n",
       "        <td id=\"T_aeb2591e_5efb_11e9_add4_88e9fe5c145arow2_col8\" class=\"data row2 col8\" >Turbo-fan</td> \n",
       "    </tr>    <tr> \n",
       "        <th id=\"T_aeb2591e_5efb_11e9_add4_88e9fe5c145alevel0_row3\" class=\"row_heading level0 row3\" >3</th> \n",
       "        <td id=\"T_aeb2591e_5efb_11e9_add4_88e9fe5c145arow3_col0\" class=\"data row3 col0\" >N104UW</td> \n",
       "        <td id=\"T_aeb2591e_5efb_11e9_add4_88e9fe5c145arow3_col1\" class=\"data row3 col1\" >1999</td> \n",
       "        <td id=\"T_aeb2591e_5efb_11e9_add4_88e9fe5c145arow3_col2\" class=\"data row3 col2\" >Fixed wing multi engine</td> \n",
       "        <td id=\"T_aeb2591e_5efb_11e9_add4_88e9fe5c145arow3_col3\" class=\"data row3 col3\" >AIRBUS INDUSTRIE</td> \n",
       "        <td id=\"T_aeb2591e_5efb_11e9_add4_88e9fe5c145arow3_col4\" class=\"data row3 col4\" >A320-214</td> \n",
       "        <td id=\"T_aeb2591e_5efb_11e9_add4_88e9fe5c145arow3_col5\" class=\"data row3 col5\" >2</td> \n",
       "        <td id=\"T_aeb2591e_5efb_11e9_add4_88e9fe5c145arow3_col6\" class=\"data row3 col6\" >182</td> \n",
       "        <td id=\"T_aeb2591e_5efb_11e9_add4_88e9fe5c145arow3_col7\" class=\"data row3 col7\" >nan</td> \n",
       "        <td id=\"T_aeb2591e_5efb_11e9_add4_88e9fe5c145arow3_col8\" class=\"data row3 col8\" >Turbo-fan</td> \n",
       "    </tr>    <tr> \n",
       "        <th id=\"T_aeb2591e_5efb_11e9_add4_88e9fe5c145alevel0_row4\" class=\"row_heading level0 row4\" >4</th> \n",
       "        <td id=\"T_aeb2591e_5efb_11e9_add4_88e9fe5c145arow4_col0\" class=\"data row4 col0\" >N10575</td> \n",
       "        <td id=\"T_aeb2591e_5efb_11e9_add4_88e9fe5c145arow4_col1\" class=\"data row4 col1\" >2002</td> \n",
       "        <td id=\"T_aeb2591e_5efb_11e9_add4_88e9fe5c145arow4_col2\" class=\"data row4 col2\" >Fixed wing multi engine</td> \n",
       "        <td id=\"T_aeb2591e_5efb_11e9_add4_88e9fe5c145arow4_col3\" class=\"data row4 col3\" >EMBRAER</td> \n",
       "        <td id=\"T_aeb2591e_5efb_11e9_add4_88e9fe5c145arow4_col4\" class=\"data row4 col4\" >EMB-145LR</td> \n",
       "        <td id=\"T_aeb2591e_5efb_11e9_add4_88e9fe5c145arow4_col5\" class=\"data row4 col5\" >2</td> \n",
       "        <td id=\"T_aeb2591e_5efb_11e9_add4_88e9fe5c145arow4_col6\" class=\"data row4 col6\" >55</td> \n",
       "        <td id=\"T_aeb2591e_5efb_11e9_add4_88e9fe5c145arow4_col7\" class=\"data row4 col7\" >nan</td> \n",
       "        <td id=\"T_aeb2591e_5efb_11e9_add4_88e9fe5c145arow4_col8\" class=\"data row4 col8\" >Turbo-fan</td> \n",
       "    </tr></tbody> \n",
       "</table> "
      ],
      "text/plain": [
       "<pandas.io.formats.style.Styler at 0x10d12d0b8>"
      ]
     },
     "execution_count": 4,
     "metadata": {},
     "output_type": "execute_result"
    }
   ],
   "source": [
    "planes_df.head().style.apply(lambda x: ['background: teal' if i in [0, 4] and (x.name == 'engines' or x.name == 'year') else '' for i,_ in x.iteritems()])"
   ]
  }
 ],
 "metadata": {
  "kernelspec": {
   "display_name": "Python 3",
   "language": "python",
   "name": "python3"
  },
  "language_info": {
   "codemirror_mode": {
    "name": "ipython",
    "version": 3
   },
   "file_extension": ".py",
   "mimetype": "text/x-python",
   "name": "python",
   "nbconvert_exporter": "python",
   "pygments_lexer": "ipython3",
   "version": "3.6.5"
  }
 },
 "nbformat": 4,
 "nbformat_minor": 2
}
