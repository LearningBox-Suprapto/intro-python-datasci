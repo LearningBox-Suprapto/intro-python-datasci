{
 "cells": [
  {
   "cell_type": "markdown",
   "metadata": {
    "slideshow": {
     "slide_type": "slide"
    }
   },
   "source": [
    "# Python and Jupyter Overview"
   ]
  },
  {
   "cell_type": "markdown",
   "metadata": {},
   "source": [
    "# Python"
   ]
  },
  {
   "cell_type": "markdown",
   "metadata": {},
   "source": [
    "## Python is...\n",
    "\n",
    "* a *high-level*, *structured*, *open-source*, *interpreted* programming language\n",
    "* a really good choice for almost any programming task\n",
    "* a very popular and effective choice for data science tasks"
   ]
  },
  {
   "cell_type": "markdown",
   "metadata": {},
   "source": [
    "## Python in the real world\n",
    "\n",
    "### General\n",
    "\n",
    "Python is one of the *the most popular programming languages in the world*. It's commonly used for:\n",
    "\n",
    "* Application development\n",
    "* Scripting\n",
    "* Automation\n",
    "* Testing\n",
    "* Data science\n",
    "\n",
    "According to StackOverflow Trends, more than 11 percent of StackOverflow questions were tagged with \"python\" in late 2018. All other languages fell well short of this number:\n",
    "\n",
    "| Language | Percent |\n",
    "|----------|---------|\n",
    "| Python   | 11.2%   |\n",
    "| Java     | 7.7%    |\n",
    "| C++      | 2.75%   |\n",
    "| R        | 2.7%    |\n",
    "| Matlab   | < 1%    |\n",
    "| Scala    | < 1%    |\n",
    "| SAS      | < 1%    |\n",
    "| Julia    | < 1%    |\n",
    "\n",
    "### Data Science\n",
    "\n",
    "As previously mentioned, Python is also a popular choice in data science. For reference:\n",
    "\n",
    "  * According to KDNuggets, 65.6 percent of data scientists used Python regularly in 2018. This was an *increase* from 54 percent in 2017.\n",
    "  * In contrast, R was used by 48.5 percent of data scientists in 2018. This was a *decrease* from 63 percent in 2017."
   ]
  },
  {
   "cell_type": "markdown",
   "metadata": {},
   "source": [
    "## Why are data scientists choosing Python?\n",
    "\n",
    "  * It can do anything...\n",
    "  * Open-source and community support\n",
    "  * Concise syntax, readability and ease-of-use\n",
    "  * Strength in numeric computatations and cutting edge data science libraries"
   ]
  },
  {
   "cell_type": "markdown",
   "metadata": {},
   "source": [
    "# Jupyter"
   ]
  },
  {
   "cell_type": "markdown",
   "metadata": {},
   "source": [
    "## Jupyter is..."
   ]
  },
  {
   "cell_type": "markdown",
   "metadata": {},
   "source": [
    "* a *language-agnostic integregrated development environment (IDE)* specializing in **notebooks**\n",
    "* a popular choice among data scientists using Python\n",
    "\n",
    "Note: We've chosen to use Jupyter over other popular IDEs for this course."
   ]
  },
  {
   "cell_type": "markdown",
   "metadata": {},
   "source": [
    "## Why are data scientists choosing Jupyter?\n",
    "\n",
    "* Ad-hoc analyses and science development\n",
    "* Synchronous data visualizations\n",
    "* Documentation of code with accompanying comments\n",
    "* Flexibility"
   ]
  },
  {
   "cell_type": "markdown",
   "metadata": {},
   "source": [
    "## Reasons you may want to use another IDE...\n",
    "\n",
    "* Jupyter is not good for professional development\n",
    "* It's not trivial to install and launch Jupyter without a tech background\n",
    "\n",
    "Note: We've eliminated these challenges for this workshop.\n",
    "\n",
    "*If you are interested in installing Jupyter on your own machine, we recommend using [Anaconda](https://jupyter.readthedocs.io/en/latest/install.html) to do so.*"
   ]
  },
  {
   "cell_type": "markdown",
   "metadata": {},
   "source": [
    "## Jupyter Basics"
   ]
  },
  {
   "cell_type": "markdown",
   "metadata": {},
   "source": [
    "### Launching Jupyter \n",
    "\n",
    "Let's begin by launching Jupyter by opening the [Binder repository](https://mybinder.org/v2/gh/uc-python/intro-python-datasci/master).\n",
    "\n",
    "This is how we will access Jupyter throughout the course.\n",
    "\n",
    "You should see a screen like this:\n",
    "\n",
    "![binder-launching.png](images/binder-launching.png)"
   ]
  },
  {
   "cell_type": "markdown",
   "metadata": {},
   "source": [
    "### Jupyter File Structure\n",
    "\n",
    "As you can see, Jupyter displays a file browser when it launches:\n",
    "\n",
    "![jupyter-file-structure.png](images/jupyter-file-structure.png)\n",
    "\n",
    "There are two primary directories for you to worry about:\n",
    "\n",
    "1. slides - workshop slides as HTML files\n",
    "2. **notebooks** - interactive notebooks for you to follow along"
   ]
  },
  {
   "cell_type": "markdown",
   "metadata": {},
   "source": [
    "### Jupyter Notebook\n",
    "\n",
    "The **notebook** is the core file used to interact with Python from Jupyter. A few details:\n",
    "\n",
    "* Notebooks allow the writing AND running of Python code\n",
    "* Notebooks are organized by **cells** - code and commentary text goes in the cells\n",
    "* All notebook files have the extension `.ipynb`\n",
    "\n",
    "A new Jupyter Notebook can be opened by:\n",
    "\n",
    "1. Clicking on the \"New\" button in the top-right corner\n",
    "2. Under \"Notebook\", clicking on \"Python 3\"\n",
    "\n",
    "![open-jupyter-notebook](images/open-jupyter-notebook.png)\n",
    "\n",
    "This will open a new Jupyter Notebook with a Python 3 kernel:\n",
    "\n",
    "![new-jupyter-notebook](images/new-jupyter-notebook.png)"
   ]
  },
  {
   "cell_type": "markdown",
   "metadata": {},
   "source": [
    "### Jupyter Notebook Cells\n",
    "\n",
    "As previously mentioned, Jupyter Notebooks are organized by **cells**. These cells are at the core of the Jupyter Notebook:\n",
    "\n",
    "* When using Jupyter Notebooks, all Python code is typed into and run from a cell\n",
    "* Comments, markdown, HTML, LaTeX can also be rendered within a cell"
   ]
  },
  {
   "cell_type": "markdown",
   "metadata": {},
   "source": [
    "#### Code Cells\n",
    "\n",
    "By default, all cells are code cells. This means Python code can be run by simply:\n",
    "\n",
    "1. Clicking on a cell's input area\n",
    "2. Typing Python code into the cell\n",
    "3. Pressing CTRL + RETURN\n",
    "\n",
    "The results of the code will be printed to the output area:\n",
    "\n",
    "![python-code-cell.png](images/python-code-cell.png)"
   ]
  },
  {
   "cell_type": "markdown",
   "metadata": {},
   "source": [
    "#### Comment/Markdown/HTML/LaTeX Cells\n",
    "\n",
    "Cells can be converted to text-oriented cells by:\n",
    "\n",
    "1. Selecting a cell by clicking on it\n",
    "2. Clicking the \"Code\" dropdown on the edit panel\n",
    "3. Clicking the \"Markdown\" option\n",
    "\n",
    "![markdown-cell-selection.png](images/markdown-cell-selection.png)\n",
    "\n",
    "Text can then be typed into these cells (regular text, markdown, HTML, LaTeX):\n",
    "\n",
    "![markdown-cell-unrendered.png](images/markdown-cell-unrendered.png)\n",
    "\n",
    "And it can be rendered by pressing CTRL + RETURN:\n",
    "\n",
    "![markdown-cell-rendered.png](images/markdown-cell-rendered.png)"
   ]
  },
  {
   "cell_type": "markdown",
   "metadata": {},
   "source": [
    "#### Inserting New Cells\n",
    "\n",
    "New cells can be inserted by:\n",
    "\n",
    "1. Selecting a cell by clicking on it\n",
    "2. Clicking the \"Insert\" menu button\n",
    "3. Clicking \"Insert Cell Above\" or \"Insert Cell Below\"\n",
    "\n",
    "![insert-new-cell.png](images/insert-new-cell.png)"
   ]
  },
  {
   "cell_type": "markdown",
   "metadata": {},
   "source": [
    "## Additional Tips\n",
    "\n",
    "1. Notebooks can be saved by clicking \"File\" -> \"Save and Checkpoint\"\n",
    "2. There are numerous keyboard shortcuts that can be accessed by clicking \"Help\" -> \"Keyboard Shortcuts\"\n",
    "3. Notebooks can be downloaded from Binder in numerous formats by clicking \"File\" -> \"Download as\""
   ]
  },
  {
   "cell_type": "markdown",
   "metadata": {},
   "source": [
    "# Questions\n",
    "\n",
    "Are there any questions before moving on?"
   ]
  }
 ],
 "metadata": {
  "kernelspec": {
   "display_name": "Python 3",
   "language": "python",
   "name": "python3"
  },
  "language_info": {
   "codemirror_mode": {
    "name": "ipython",
    "version": 3
   },
   "file_extension": ".py",
   "mimetype": "text/x-python",
   "name": "python",
   "nbconvert_exporter": "python",
   "pygments_lexer": "ipython3",
   "version": "3.6.5"
  }
 },
 "nbformat": 4,
 "nbformat_minor": 2
}
