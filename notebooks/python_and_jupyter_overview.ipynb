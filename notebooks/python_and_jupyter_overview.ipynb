{
 "cells": [
  {
   "cell_type": "markdown",
   "metadata": {
    "slideshow": {
     "slide_type": "slide"
    }
   },
   "source": [
    "# Python and IDE Overview"
   ]
  },
  {
   "cell_type": "markdown",
   "metadata": {},
   "source": [
    "## Python is...\n",
    "\n",
    "* a *high-level*, *structured*, *open-source*, *interpreted* programming language\n",
    "* a really good choice for almost any programming task\n",
    "* a very popular and effective choice for data science tasks"
   ]
  },
  {
   "cell_type": "markdown",
   "metadata": {},
   "source": [
    "## Python in the real world\n",
    "\n",
    "### General\n",
    "\n",
    "Python is one of the **the most popular programming languages in the world**. It's commonly used for:\n",
    "\n",
    "* Application development\n",
    "* Scripting\n",
    "* Automation\n",
    "* Testing\n",
    "* Data science\n",
    "\n",
    "According to StackOverflow Trends, more than 11 percent of StackOverflow questions were tagged with \"python\" in late 2018. All other languages fell well short of this number:\n",
    "\n",
    "| Language | Percent |\n",
    "|----------|---------|\n",
    "| Python   | 11.2%   |\n",
    "| Java     | 7.7%    |\n",
    "| C++      | 2.75%   |\n",
    "| R        | 2.7%    |\n",
    "| Matlab   | < 1%    |\n",
    "| Scala    | < 1%    |\n",
    "| SAS      | < 1%    |\n",
    "| Julia    | < 1%    |\n",
    "\n",
    "### Data Science\n",
    "\n",
    "As previously mentioned, Python is also a popular choice in data science. For reference:\n",
    "\n",
    "  * According to KDNuggets, 65.6 percent of data scientists used Python regularly in 2018. This was an **increase** from 54 percent in 2017.\n",
    "  * In contrast, R was used by 48.5 percent of data scientists in 2018. This was a **decrease** from 63 percent in 2017."
   ]
  },
  {
   "cell_type": "markdown",
   "metadata": {},
   "source": [
    "## Why are data scientists choosing Python?\n",
    "\n",
    "  * It can do anything...\n",
    "  * Open-source and community support\n",
    "  * Concise syntax, readability and ease-of-use\n",
    "  * Strength in numeric computatations and cutting edge data science libraries"
   ]
  }
 ],
 "metadata": {
  "kernelspec": {
   "display_name": "Python 3",
   "language": "python",
   "name": "python3"
  },
  "language_info": {
   "codemirror_mode": {
    "name": "ipython",
    "version": 3
   },
   "file_extension": ".py",
   "mimetype": "text/x-python",
   "name": "python",
   "nbconvert_exporter": "python",
   "pygments_lexer": "ipython3",
   "version": "3.6.5"
  }
 },
 "nbformat": 4,
 "nbformat_minor": 2
}
