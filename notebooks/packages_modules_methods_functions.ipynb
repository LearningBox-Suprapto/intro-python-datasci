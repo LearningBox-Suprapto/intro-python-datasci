{
 "cells": [
  {
   "cell_type": "markdown",
   "metadata": {},
   "source": [
    "# Packages, Modules, Methods, and Functions\n",
    "> The Python source distribution has long maintained the philosophy of \"batteries included\" -- having a rich and versatile standard library which is immediately available, without making the user download separate packages. This gives the Python language a head start in many projects.\n",
    ">\n",
    "> \\- PEP 206"
   ]
  },
  {
   "cell_type": "markdown",
   "metadata": {},
   "source": [
    "## Applied Review\n",
    "### Python and Jupyter Overview\n",
    "- We're working with Python through Jupyter, the most common IDE for data science.\n",
    "\n",
    "### Fundamentals\n",
    "- Python's common *atomic*, or basic, data types are\n",
    "    - Integers\n",
    "    - Floats (decimals)\n",
    "    - Strings\n",
    "    - Booleans\n",
    "- These simple types can be combined to form more complex types, including:\n",
    "    - Lists: Ordered collections\n",
    "    - Dictionaries: Key-value pairs\n",
    "    - DataFrames: Tabular datasets"
   ]
  },
  {
   "cell_type": "markdown",
   "metadata": {},
   "source": [
    "## Packages (aka Modules)\n",
    "So far we've seen several data types that Python offers out-of-the-box.\n",
    "However, to keep things organized, some Python functionality is stored in standalone *packages*, or libraries of code.\n",
    "The word \"module\" is generally synonymous with package; you will hear both in discussions of Python.\n",
    "\n",
    "For example, functionality related to the operating system -- such as creating files and directories -- is stored in a package called `os`.\n",
    "To use the tools in `os`, we *import* the package."
   ]
  },
  {
   "cell_type": "code",
   "execution_count": 1,
   "metadata": {},
   "outputs": [],
   "source": [
    "import os"
   ]
  },
  {
   "cell_type": "markdown",
   "metadata": {},
   "source": [
    "Once we import it, we gain access to everything inside.\n",
    "With Jupyter's autocomplete, we can view what's available."
   ]
  },
  {
   "cell_type": "code",
   "execution_count": null,
   "metadata": {},
   "outputs": [],
   "source": [
    "# Move your cursor the end of the below line and press tab.\n",
    "os."
   ]
  },
  {
   "cell_type": "markdown",
   "metadata": {},
   "source": [
    "Some packages, like `os`, are bundled with every Python install; downloading Python guarantees you'll have these packages.\n",
    "Collectively, this group of packages is known as the *standard library*.\n",
    "\n",
    "Other packages must be downloaded separately, either because\n",
    "- they aren't sufficiently popular to merit inclusion in the standard library\n",
    "- *or* they change too quickly for the maintainers of Python to keep up"
   ]
  },
  {
   "cell_type": "markdown",
   "metadata": {},
   "source": [
    "The DataFrame type that we saw earlier is part of the `pandas` package (short for *Panel Data*), one such package.\n",
    "Since pandas is specific to data science and is still rapidly evolving, it is not part of the standard library.\n",
    "\n",
    "We can download packages like pandas from the internet using a website called PyPI, the *Python Package Index*.\n",
    "Fortunately, since we are using Binder today, that has been handled for us and pandas is already installed."
   ]
  },
  {
   "cell_type": "markdown",
   "metadata": {},
   "source": [
    "It's possible to import packages under an *alias*, or a nickname.\n",
    "The community has adopted certain conventions for aliases for common packages;\n",
    "while following them isn't mandatory, it's highly recommended, as it makes your code easier for others to understand.\n",
    "\n",
    "pandas is conventionally imported under the alias `pd`."
   ]
  },
  {
   "cell_type": "code",
   "execution_count": 2,
   "metadata": {},
   "outputs": [],
   "source": [
    "import pandas as pd"
   ]
  },
  {
   "cell_type": "code",
   "execution_count": 3,
   "metadata": {},
   "outputs": [
    {
     "data": {
      "text/plain": [
       "pandas.core.frame.DataFrame"
      ]
     },
     "execution_count": 3,
     "metadata": {},
     "output_type": "execute_result"
    }
   ],
   "source": [
    "# Importing pandas has given us access to the DataFrame, accessible as pd.DataFrame\n",
    "pd.DataFrame"
   ]
  },
  {
   "cell_type": "markdown",
   "metadata": {},
   "source": [
    "<font style=\"color:#008;\">\n",
    "    <strong>Question</strong>:<br><em>What is the type of `pd`? Guess before you run the code below.</em>\n",
    "</font>"
   ]
  },
  {
   "cell_type": "code",
   "execution_count": 4,
   "metadata": {},
   "outputs": [
    {
     "data": {
      "text/plain": [
       "module"
      ]
     },
     "execution_count": 4,
     "metadata": {},
     "output_type": "execute_result"
    }
   ],
   "source": [
    "type(pd)"
   ]
  },
  {
   "cell_type": "markdown",
   "metadata": {},
   "source": [
    "Third-party packages unlock a huge range of functionality that isn't available in native Python; much of Python's data science capabilities come from a handful of packages outside the standard library:\n",
    "- pandas\n",
    "- numpy (numerical computing)\n",
    "- scikit-learn (modeling)\n",
    "- scipy (scientific computing)\n",
    "- matplotlib (graphing)\n",
    "\n",
    "We won't have time to touch on most of these in this training, but if you're interested in one, google it!"
   ]
  },
  {
   "cell_type": "markdown",
   "metadata": {},
   "source": [
    "### Your Turn\n",
    "1. Import the `numpy` library, listed above. Give it the alias \"np\".\n",
    "2. Using autocomplete, determine what variable inside the numpy library starts with \"eig\". *Hint: remember you'll need to preface the variable name with the package alias, e.g. `np.eig`*"
   ]
  },
  {
   "cell_type": "markdown",
   "metadata": {},
   "source": [
    "## Functions\n",
    "On several occasions, we've seen parentheses used to produce a result.\n",
    "```python\n",
    "# Get the type of pd.\n",
    "type(pd)\n",
    "\n",
    "# Get the first few rows of the planes data.\n",
    "planes.head()\n",
    "\n",
    "# Read in the planes.csv file.\n",
    "pd.read_csv('../data/planes.csv')\n",
    "```"
   ]
  },
  {
   "cell_type": "markdown",
   "metadata": {},
   "source": [
    "Expressions using parentheses like this are called \"function calls\".\n",
    "The name to the left of the parens (`type`, `planes`, `pd`) is called the **function**, and any variables within the parens are called function arguments, or simply **arguments**."
   ]
  },
  {
   "cell_type": "markdown",
   "metadata": {},
   "source": [
    "Functions are wrappers for chunks of Python code that is stored in a shorter name.\n",
    "For example, the `read_csv` function is actually a call to a block of Python code that reads in a data file, turns it into a DataFrame, and *returns* it to the user.\n",
    "\n",
    "The key idea of functions is **they take inputs and produce outputs**;\n",
    "usually you don't need to know anything about *how* they do it."
   ]
  },
  {
   "cell_type": "markdown",
   "metadata": {},
   "source": [
    "Functions are integral to using Python, because it's much more efficient to use pre-written code than to always write your own.\n",
    "If you ever do want to write your own function -- perhaps to share with others, or to make it easier to reuse your work -- it's fairly simple to do so, but beyond the scope of this training."
   ]
  },
  {
   "cell_type": "markdown",
   "metadata": {},
   "source": [
    "## Objects and Methods\n",
    "Up to this point, we've referred to *variables* and *values*.\n",
    "Variables are the names we give to values."
   ]
  },
  {
   "cell_type": "markdown",
   "metadata": {},
   "source": [
    "To be more precise and pythonic, the values stored in variables are **objects**.\n",
    "Everything in Python is an object: integers, strings, DataFrames, and even modules (like the `pd` variable above)."
   ]
  },
  {
   "cell_type": "markdown",
   "metadata": {},
   "source": [
    "All objects support **dot-notation**: using a period to access data *within* the object.\n",
    "For example, we saw this syntax above:\n",
    "```python\n",
    "pd.DataFrame\n",
    "```\n",
    "This refers to the `DataFrame` attribute of the `pd` object.\n",
    "\n",
    "In the Fundamentals notebook, we created a DataFrame called `planes` and used the `head` attribute to view the first 5 rows of the data.\n",
    "```python\n",
    "planes.head()\n",
    "```\n",
    "As you can see, attributes can be functions (note the parens after `head`);\n",
    "we call such attributes **methods**.\n",
    "\n",
    "Methods are just like other functions, except that their relationship to their parent object allows them to use its data.\n",
    "For example, `head` access the first rows of its parent object (a DataFrame) and returns them."
   ]
  },
  {
   "cell_type": "markdown",
   "metadata": {},
   "source": [
    "### Functions, Objects, and Methods in the Context of DataFrames\n",
    "DataFrames are a type of Python object, so let's use them to explore the new Python features we've learned."
   ]
  },
  {
   "cell_type": "markdown",
   "metadata": {},
   "source": [
    "Using the `read_csv` function from pandas to read in a DataFrame."
   ]
  },
  {
   "cell_type": "code",
   "execution_count": 20,
   "metadata": {},
   "outputs": [],
   "source": [
    "df = pd.read_csv('../data/airlines.csv')"
   ]
  },
  {
   "cell_type": "markdown",
   "metadata": {},
   "source": [
    "Using the `type` function to determine the type of `df`."
   ]
  },
  {
   "cell_type": "code",
   "execution_count": 9,
   "metadata": {},
   "outputs": [
    {
     "data": {
      "text/plain": [
       "pandas.core.frame.DataFrame"
      ]
     },
     "execution_count": 9,
     "metadata": {},
     "output_type": "execute_result"
    }
   ],
   "source": [
    "type(df)"
   ]
  },
  {
   "cell_type": "markdown",
   "metadata": {},
   "source": [
    "Using the `head` method of the DataFrame to view some of its rows."
   ]
  },
  {
   "cell_type": "code",
   "execution_count": 10,
   "metadata": {},
   "outputs": [
    {
     "data": {
      "text/html": [
       "<div>\n",
       "<style scoped>\n",
       "    .dataframe tbody tr th:only-of-type {\n",
       "        vertical-align: middle;\n",
       "    }\n",
       "\n",
       "    .dataframe tbody tr th {\n",
       "        vertical-align: top;\n",
       "    }\n",
       "\n",
       "    .dataframe thead th {\n",
       "        text-align: right;\n",
       "    }\n",
       "</style>\n",
       "<table border=\"1\" class=\"dataframe\">\n",
       "  <thead>\n",
       "    <tr style=\"text-align: right;\">\n",
       "      <th></th>\n",
       "      <th>carrier</th>\n",
       "      <th>name</th>\n",
       "    </tr>\n",
       "  </thead>\n",
       "  <tbody>\n",
       "    <tr>\n",
       "      <th>0</th>\n",
       "      <td>9E</td>\n",
       "      <td>Endeavor Air Inc.</td>\n",
       "    </tr>\n",
       "    <tr>\n",
       "      <th>1</th>\n",
       "      <td>AA</td>\n",
       "      <td>American Airlines Inc.</td>\n",
       "    </tr>\n",
       "    <tr>\n",
       "      <th>2</th>\n",
       "      <td>AS</td>\n",
       "      <td>Alaska Airlines Inc.</td>\n",
       "    </tr>\n",
       "    <tr>\n",
       "      <th>3</th>\n",
       "      <td>B6</td>\n",
       "      <td>JetBlue Airways</td>\n",
       "    </tr>\n",
       "    <tr>\n",
       "      <th>4</th>\n",
       "      <td>DL</td>\n",
       "      <td>Delta Air Lines Inc.</td>\n",
       "    </tr>\n",
       "  </tbody>\n",
       "</table>\n",
       "</div>"
      ],
      "text/plain": [
       "  carrier                    name\n",
       "0      9E       Endeavor Air Inc.\n",
       "1      AA  American Airlines Inc.\n",
       "2      AS    Alaska Airlines Inc.\n",
       "3      B6         JetBlue Airways\n",
       "4      DL    Delta Air Lines Inc."
      ]
     },
     "execution_count": 10,
     "metadata": {},
     "output_type": "execute_result"
    }
   ],
   "source": [
    "df.head()"
   ]
  },
  {
   "cell_type": "markdown",
   "metadata": {},
   "source": [
    "Examining the `columns` attribute of the DataFrame to see the names of its columns."
   ]
  },
  {
   "cell_type": "code",
   "execution_count": 12,
   "metadata": {},
   "outputs": [
    {
     "data": {
      "text/plain": [
       "Index(['carrier', 'name'], dtype='object')"
      ]
     },
     "execution_count": 12,
     "metadata": {},
     "output_type": "execute_result"
    }
   ],
   "source": [
    "df.columns"
   ]
  },
  {
   "cell_type": "markdown",
   "metadata": {},
   "source": [
    "Inspecting the `shape` attribute to find the *dimensions* (rows and columns) of the DataFrame."
   ]
  },
  {
   "cell_type": "code",
   "execution_count": 16,
   "metadata": {},
   "outputs": [
    {
     "data": {
      "text/plain": [
       "(16, 2)"
      ]
     },
     "execution_count": 16,
     "metadata": {},
     "output_type": "execute_result"
    }
   ],
   "source": [
    "df.shape"
   ]
  },
  {
   "cell_type": "markdown",
   "metadata": {},
   "source": [
    "Calling the `describe` method to get a summary of the data in the DataFrame."
   ]
  },
  {
   "cell_type": "code",
   "execution_count": 18,
   "metadata": {},
   "outputs": [
    {
     "data": {
      "text/html": [
       "<div>\n",
       "<style scoped>\n",
       "    .dataframe tbody tr th:only-of-type {\n",
       "        vertical-align: middle;\n",
       "    }\n",
       "\n",
       "    .dataframe tbody tr th {\n",
       "        vertical-align: top;\n",
       "    }\n",
       "\n",
       "    .dataframe thead th {\n",
       "        text-align: right;\n",
       "    }\n",
       "</style>\n",
       "<table border=\"1\" class=\"dataframe\">\n",
       "  <thead>\n",
       "    <tr style=\"text-align: right;\">\n",
       "      <th></th>\n",
       "      <th>carrier</th>\n",
       "      <th>name</th>\n",
       "    </tr>\n",
       "  </thead>\n",
       "  <tbody>\n",
       "    <tr>\n",
       "      <th>count</th>\n",
       "      <td>16</td>\n",
       "      <td>16</td>\n",
       "    </tr>\n",
       "    <tr>\n",
       "      <th>unique</th>\n",
       "      <td>16</td>\n",
       "      <td>16</td>\n",
       "    </tr>\n",
       "    <tr>\n",
       "      <th>top</th>\n",
       "      <td>WN</td>\n",
       "      <td>Alaska Airlines Inc.</td>\n",
       "    </tr>\n",
       "    <tr>\n",
       "      <th>freq</th>\n",
       "      <td>1</td>\n",
       "      <td>1</td>\n",
       "    </tr>\n",
       "  </tbody>\n",
       "</table>\n",
       "</div>"
      ],
      "text/plain": [
       "       carrier                  name\n",
       "count       16                    16\n",
       "unique      16                    16\n",
       "top         WN  Alaska Airlines Inc.\n",
       "freq         1                     1"
      ]
     },
     "execution_count": 18,
     "metadata": {},
     "output_type": "execute_result"
    }
   ],
   "source": [
    "df.describe()"
   ]
  },
  {
   "cell_type": "markdown",
   "metadata": {},
   "source": [
    "Now let's combine them: using the `type` function to determine what `df.describe` holds."
   ]
  },
  {
   "cell_type": "code",
   "execution_count": 19,
   "metadata": {},
   "outputs": [
    {
     "data": {
      "text/plain": [
       "method"
      ]
     },
     "execution_count": 19,
     "metadata": {},
     "output_type": "execute_result"
    }
   ],
   "source": [
    "type(df.describe)"
   ]
  },
  {
   "cell_type": "markdown",
   "metadata": {},
   "source": [
    "<font style=\"color:#008;\">\n",
    "    <strong>Question</strong>:<br><em>Does this result make sense? What would happen if you added parens? i.e. <code>type(df.describe())</code></em>\n",
    "</font>"
   ]
  },
  {
   "cell_type": "markdown",
   "metadata": {},
   "source": [
    "### Your Turn\n",
    "Spend some time using autocomplete to explore the methods and attributes of the `df` object we used above.\n",
    "Remember from the Jupyter lesson that you can use a question mark to see the documentation for a function or method (e.g. `df.describe?`)."
   ]
  },
  {
   "cell_type": "markdown",
   "metadata": {},
   "source": [
    "# Questions\n",
    "\n",
    "Are there any questions before we move on?"
   ]
  }
 ],
 "metadata": {
  "kernelspec": {
   "display_name": "ad_hoc",
   "language": "python",
   "name": "ad_hoc"
  },
  "language_info": {
   "codemirror_mode": {
    "name": "ipython",
    "version": 3
   },
   "file_extension": ".py",
   "mimetype": "text/x-python",
   "name": "python",
   "nbconvert_exporter": "python",
   "pygments_lexer": "ipython3",
   "version": "3.7.3"
  }
 },
 "nbformat": 4,
 "nbformat_minor": 2
}
