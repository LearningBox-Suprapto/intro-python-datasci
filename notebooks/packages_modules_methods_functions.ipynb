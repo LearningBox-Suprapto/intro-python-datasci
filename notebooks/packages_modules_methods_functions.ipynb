{
 "cells": [
  {
   "cell_type": "markdown",
   "metadata": {},
   "source": [
    "# Packages, Modules, Methods, and Functions\n",
    "> The Python source distribution has long maintained the philosophy of \"batteries included\" -- having a rich and versatile standard library which is immediately available, without making the user download separate packages. This gives the Python language a head start in many projects.\n",
    ">\n",
    "> \\- PEP 206"
   ]
  },
  {
   "cell_type": "markdown",
   "metadata": {},
   "source": [
    "## Applied Review\n",
    "### Python and Jupyter Overview\n",
    "- We're working with Python through Jupyter, the most common IDE for data science.\n",
    "\n",
    "### Fundamentals\n",
    "- Python's common *atomic*, or basic, data types are\n",
    "    - Integers\n",
    "    - Floats (decimals)\n",
    "    - Strings\n",
    "    - Booleans\n",
    "- These simple types can be combined to form more complex types, including:\n",
    "    - Lists: Ordered collections\n",
    "    - Dictionaries: Key-value pairs\n",
    "    - DataFrames: Tabular datasets"
   ]
  },
  {
   "cell_type": "markdown",
   "metadata": {},
   "source": [
    "## Packages and Modules\n",
    "So far we've seen several data types that Python offers out-of-the-box.\n",
    "However, to keep things organized, some Python functionality is stored in standalone *packages*, or libraries of code.\n",
    "The word \"module\" is generally synonymous with package; you will hear both in discussions of Python.\n",
    "\n",
    "For example, functionality related to the operating system -- such as creating files and directories -- is stored in a package called `os`.\n",
    "To use the tools in `os`, we *import* the package."
   ]
  },
  {
   "cell_type": "code",
   "execution_count": 1,
   "metadata": {},
   "outputs": [],
   "source": [
    "import os"
   ]
  },
  {
   "cell_type": "markdown",
   "metadata": {},
   "source": [
    "Once we import it, we gain access to everything inside.\n",
    "With Jupyter's autocomplete, we can view what's available."
   ]
  },
  {
   "cell_type": "code",
   "execution_count": null,
   "metadata": {},
   "outputs": [],
   "source": [
    "# Move your cursor the end of the below line and press tab.\n",
    "os."
   ]
  },
  {
   "cell_type": "markdown",
   "metadata": {},
   "source": [
    "Some packages, like `os`, are bundled with every Python install; downloading Python guarantees you'll have these packages.\n",
    "Collectively, this group of packages is known as the *standard library*.\n",
    "\n",
    "Other packages must be downloaded separately, either because\n",
    "- they aren't sufficiently popular to merit inclusion in the standard library\n",
    "- *or* they change too quickly for the maintainers of Python to keep up"
   ]
  },
  {
   "cell_type": "markdown",
   "metadata": {},
   "source": [
    "The DataFrame type that we saw earlier is part of the `pandas` package (short for *Panel Data*), one such package.\n",
    "Since pandas is specific to data science and is still rapidly evolving, it is not part of the standard library.\n",
    "\n",
    "We can download packages like pandas from the internet using a repository called PyPI, the *Python Package Index*.\n",
    "Fortunately, since we are using Binder today, that has been handled for us and pandas is already installed."
   ]
  },
  {
   "cell_type": "markdown",
   "metadata": {},
   "source": [
    "It's possible to import packages under an *alias*, or a nickname.\n",
    "The community has adopted certain conventions for aliases for common packages;\n",
    "while following them isn't mandatory, it's highly recommended, as it makes your code easier for others to understand.\n",
    "\n",
    "pandas is conventionally imported under the alias `pd`."
   ]
  },
  {
   "cell_type": "code",
   "execution_count": 2,
   "metadata": {},
   "outputs": [],
   "source": [
    "import pandas as pd"
   ]
  },
  {
   "cell_type": "code",
   "execution_count": 3,
   "metadata": {},
   "outputs": [
    {
     "data": {
      "text/plain": [
       "pandas.core.frame.DataFrame"
      ]
     },
     "execution_count": 3,
     "metadata": {},
     "output_type": "execute_result"
    }
   ],
   "source": [
    "# Importing pandas has given us access to the DataFrame, accessible as pd.DataFrame\n",
    "pd.DataFrame"
   ]
  },
  {
   "cell_type": "code",
   "execution_count": null,
   "metadata": {},
   "outputs": [],
   "source": []
  }
 ],
 "metadata": {
  "kernelspec": {
   "display_name": "ad_hoc",
   "language": "python",
   "name": "ad_hoc"
  },
  "language_info": {
   "codemirror_mode": {
    "name": "ipython",
    "version": 3
   },
   "file_extension": ".py",
   "mimetype": "text/x-python",
   "name": "python",
   "nbconvert_exporter": "python",
   "pygments_lexer": "ipython3",
   "version": "3.7.3"
  }
 },
 "nbformat": 4,
 "nbformat_minor": 2
}
