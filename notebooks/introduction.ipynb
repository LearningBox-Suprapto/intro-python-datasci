{
 "cells": [
  {
   "cell_type": "markdown",
   "metadata": {},
   "source": [
    "# Introduction to Python for Data Science\n",
    "\n",
    "Ethan Swan & Mark Roepke\n",
    "\n",
    "May 16-17, 2019"
   ]
  },
  {
   "cell_type": "markdown",
   "metadata": {},
   "source": [
    "# Introductions"
   ]
  },
  {
   "cell_type": "markdown",
   "metadata": {},
   "source": [
    "## About Ethan\n",
    "\n",
    "### Professional\n",
    "\n",
    "* Senior Data Scientist, Enable the Talent, 84.51&deg;\n",
    "\n",
    "### Academic\n",
    "\n",
    "* BS, Computer Science, University of Notre Dame\n",
    "* MBA, Business Analytics, University of Notre Dame\n",
    "\n",
    "### Contact\n",
    "\n",
    "* Website: [ethanswan.com](http://www.ethanswan.com/)\n",
    "* GitHub: [@eswan18](https://github.com/eswan18/)\n",
    "* Twitter: [@EthanPSwan](https://twitter.com/eswan18)\n",
    "* LinkedIn: [Ethan Swan](https://linkedin.com/in/ethanpswan)\n",
    "* Email: [ethanpswan@gmail.com](mailto:ethanpswan@gmail.com)"
   ]
  },
  {
   "cell_type": "markdown",
   "metadata": {},
   "source": [
    "## About Mark\n",
    "\n",
    "### Professional\n",
    "\n",
    "* Senior Data Scientist, Digital Meal Planning & Recipes, 84.51&deg;\n",
    "\n",
    "### Academic\n",
    "\n",
    "* BA, Economics & Mathematics, Xavier University\n",
    "* MS, Computer Science, Johns Hopkins University\n",
    "\n",
    "### Contact\n",
    "\n",
    "* Website: [markroepke.me](http://www.markroepke.me/)\n",
    "* GitHub: [@markroepke](https://github.com/markroepke/)\n",
    "* Twitter: [@markroepke](https://twitter.com/bradleyboehmke)\n",
    "* LinkedIn: [Mark Roepke](https://www.linkedin.com/in/mark-roepke-17517995/)\n",
    "* Email: [mroepke5@gmail.com](mailto:mroepke5@gmail.com)"
   ]
  },
  {
   "cell_type": "markdown",
   "metadata": {},
   "source": [
    "# Course"
   ]
  },
  {
   "cell_type": "markdown",
   "metadata": {},
   "source": [
    "## Defining Data Science\n",
    "\n",
    "![data-science.png](images/data-science.png)\n",
    "\n",
    "## Data Science and Technology\n",
    "\n",
    "![data-science-and-tech.png](images/data-science-and-tech.png)\n",
    "\n",
    "## Applied Data Science\n",
    "\n",
    "![applied-data-science.gif](images/applied-data-science.gif)"
   ]
  },
  {
   "cell_type": "markdown",
   "metadata": {},
   "source": [
    "## Course Objectives\n",
    "\n",
    "The following are the primary learning objectives of this course:\n",
    "\n",
    "1\\. Develop comprehensive skills in the importing/exporting, wrangling, aggregating and joining of data using Python.\n",
    "\n",
    "2\\. Establish a mental model of the Python programming language to enable future self-learning.\n",
    "\n",
    "3\\. Build awareness and basic skills in the core data science area of data visualization."
   ]
  },
  {
   "cell_type": "markdown",
   "metadata": {},
   "source": [
    "## Course Agenda\n",
    "\n",
    "### Day 1\n",
    "\n",
    "| Topic                                                                          |     Time      |\n",
    "| :----------------------------------------------------------------------------- | :-----------: |\n",
    "| Breakfast / Social Time                                                        |  8:00 - 9:00  |\n",
    "| Introductions                                                                  |  9:00 - 9:15  |\n",
    "| Python and Jupyter Overview                                                    |  9:15 - 9:45  |                               \n",
    "| Fundamentals                                                                   |  9:45 - 10:30 |\n",
    "| Break                                                                          | 10:30 - 10:45 |\n",
    "| Packages, Modules, Methods, Functions                                          | 10:45 - 11:30 |\n",
    "| Importing Data                                                                 | 11:30 - 12:00 |\n",
    "| Lunch                                                                          | 12:00 - 1:00  |\n",
    "| Selecting and Filtering Data                                                   |  1:00 - 2:00  |\n",
    "| Working with Columns                                                           |  2:00 - 2:45  |\n",
    "| Break                                                                          |  2:45 - 3:00  |\n",
    "| Case Study, pt. 1                                                              |  3:00 - 4:00  |\n",
    "| Q\\&A                                                                           |  4:00 - 4:30  |"
   ]
  },
  {
   "cell_type": "markdown",
   "metadata": {},
   "source": [
    "### Day 2\n",
    "\n",
    "| Topic                                                                          |     Time      |\n",
    "| :----------------------------------------------------------------------------- | :-----------: |\n",
    "| Breakfast / Social Time                                                        |  8:00 - 9:00  |\n",
    "| Review                                                                         |  9:00 - 10:00 |\n",
    "| Summarizing Data                                                               |  9:30 - 10:30 |\n",
    "| Break                                                                          | 10:30 - 10:45 |\n",
    "| Summarizing Grouped Data                                                       | 10:45 - 11:15 |\n",
    "| Joining Data                                                                   | 11:15 - 12:00 |\n",
    "| Lunch                                                                          | 12:00 - 1:00  |\n",
    "| Exporting Data                                                                 |  1:00 - 1:30  |\n",
    "| Visualizing Data                                                               |  1:30 - 2:30  |\n",
    "| Break                                                                          |  2:30 - 2:45  |\n",
    "| Case Study, pt. 2                                                              |  2:45 - 4:00  |\n",
    "| Q\\&A                                                                           |  4:00 - 4:30  |"
   ]
  },
  {
   "cell_type": "markdown",
   "metadata": {},
   "source": [
    "# Technologies"
   ]
  },
  {
   "cell_type": "markdown",
   "metadata": {},
   "source": [
    "## Binder\n",
    "\n",
    "We've developed this class using a product named [Binder](https://mybinder.org/).\n",
    "\n",
    "As a result, this course requires *zero* setup on your part.\n",
    "\n",
    "There are two core techologies within the Binder repository: Python and Jupyter."
   ]
  },
  {
   "cell_type": "markdown",
   "metadata": {},
   "source": [
    "## Python\n",
    "\n",
    "We are using Python 3.7 for the entirety of this class.\n",
    "\n",
    "The core libaries we will be using are `pandas`, `numpy`, and `matplotlib`."
   ]
  },
  {
   "cell_type": "markdown",
   "metadata": {},
   "source": [
    "## Jupyter\n",
    "\n",
    "Jupyter is the integrated development environment (IDE) we will be using.\n",
    "\n",
    "This is where we will write and run our Python code."
   ]
  },
  {
   "cell_type": "markdown",
   "metadata": {},
   "source": [
    "We will give an overview of these technologies shortly."
   ]
  },
  {
   "cell_type": "markdown",
   "metadata": {},
   "source": [
    "# Course Material\n",
    "\n",
    "All of the material for this course can be reached from our [GitHub](https://github.com/uc-python/intro-python-datasci) repository.\n",
    "\n",
    "This repository has access to Binder, worksheets, and the training source code."
   ]
  },
  {
   "cell_type": "markdown",
   "metadata": {},
   "source": [
    "## Binder\n",
    "\n",
    "Binder can be accessed by clicking the Binder button in the repository's README or by [clicking here](https://mybinder.org/v2/gh/uc-python/intro-python-datasci/master). \n",
    "\n",
    "Binder can be used to access slides and notebooks for the training. \n",
    "\n",
    "It contains a running instance of Jupyter and a Python kernel to run code."
   ]
  },
  {
   "cell_type": "markdown",
   "metadata": {},
   "source": [
    "### Interactive slides\n",
    "\n",
    "Interactive slides will be used to present the material.\n",
    "\n",
    "These slides can be accessed via Binder by clicking the \"slides\" folder in Jupyter.\n",
    "\n",
    "There is a file containing slides for each section. Click on the file name and the slides should open in your browser."
   ]
  },
  {
   "cell_type": "markdown",
   "metadata": {},
   "source": [
    "### Worksheets\n",
    "\n",
    "Slide-accompanying worksheets are available to provide an opportunity to follow along and document core concepts that we cover.\n",
    "\n",
    "These worksheets can be accessed via Binder by clicking the \"worksheets\" folder in Jupyter.\n",
    "\n",
    "There is a file containing worksheets for each section. Click on the file name and the worksheet should open in your browser."
   ]
  },
  {
   "cell_type": "markdown",
   "metadata": {},
   "source": [
    "## Source Code\n",
    "\n",
    "Source code for the training can be found on [GitHub](https://github.com/uc-python/intro-python-datasci).\n",
    "\n",
    "This repository is public so you can clone (download) and/or refer to the materials at any point in the future."
   ]
  },
  {
   "cell_type": "markdown",
   "metadata": {},
   "source": [
    "# Questions\n",
    "\n",
    "Are there any questions before moving on?"
   ]
  }
 ],
 "metadata": {
  "kernelspec": {
   "display_name": "Python 3",
   "language": "python",
   "name": "python3"
  },
  "language_info": {
   "codemirror_mode": {
    "name": "ipython",
    "version": 3
   },
   "file_extension": ".py",
   "mimetype": "text/x-python",
   "name": "python",
   "nbconvert_exporter": "python",
   "pygments_lexer": "ipython3",
   "version": "3.6.5"
  }
 },
 "nbformat": 4,
 "nbformat_minor": 2
}
