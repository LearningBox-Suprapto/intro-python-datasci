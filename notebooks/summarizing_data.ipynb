{
 "cells": [
  {
   "cell_type": "markdown",
   "metadata": {},
   "source": [
    "# Summaring Data\n",
    "\n",
    "> A quote about summarizing data.\n",
    ">\n",
    "> \\- The person that said it\n",
    "\n",
    "## Applied Review\n",
    "\n",
    "### Dictionaries\n",
    "\n",
    "* The `dict` structure is used to represent **key-value pairs**\n",
    "* Like a real dictionary, you look up a word (**key**) and get its definition (**value**)\n",
    "* Below is an example:\n",
    "\n",
    "```python\n",
    "ethan = {\n",
    "    'first_name': 'Ethan',\n",
    "    'last_name': 'Swan',\n",
    "    'alma_mater': 'Notre Dame',\n",
    "    'employer': '84.51˚',\n",
    "    'zip_code': 45208\n",
    "}\n",
    "```\n",
    "\n",
    "### DataFrame Structure\n",
    "\n",
    "* We will start by importing the `flights` data set as a DataFrame:"
   ]
  },
  {
   "cell_type": "code",
   "execution_count": 1,
   "metadata": {},
   "outputs": [],
   "source": [
    "import pandas as pd\n",
    "flights_df = pd.read_csv('../data/flights.csv')"
   ]
  },
  {
   "cell_type": "markdown",
   "metadata": {},
   "source": [
    "* Each DataFrame variable is a **Series** and can be accessed with bracket subsetting notation: `DataFrame['SeriesName']`\n",
    "* The DataFrame has an **Index** that is visible the far left side and can be used to slide the DataFrame\n",
    "\n",
    "### Methods\n",
    "\n",
    "* Methods are *operations* that are specific to Python classes\n",
    "* These operations end in parentheses and *make something happen*\n",
    "* An example of a method is `DataFrame.head()`\n",
    "\n",
    "## General Model\n",
    "\n",
    "### Window Operations\n",
    "\n",
    "Yesterday we learned how to manipulate data across one or more variables within the row(s):\n",
    "\n",
    "![series-plus-series.png](images/series-plus-series.png)\n",
    "\n",
    "Note that we return the same number of elements that we started with. This is known as a **window function**, but you can also think of it as summarizing at the row-level.\n",
    "\n",
    "We could achieve this result with the following code:\n",
    "\n",
    "```python\n",
    "DataFrame['A'] + DataFrame['B']\n",
    "```\n",
    "\n",
    "We subset the two Series and then add them together using the `+` operator to achieve the sum.\n",
    "\n",
    "### Summary Operations\n",
    "\n",
    "However, sometimes we want to work with data across rows within a variable -- that is, aggregate/summarize values rowwise rather than columnwise.\n",
    "\n",
    "![aggregate-series.png](images/aggregate-series.png)\n",
    "\n",
    "Note that we return a single value represengint some aggregation of the elements we started with. This is known as a **summary function**, but you can think of it as summarizing across rows.\n",
    "\n",
    "This is what we are going to talk about next."
   ]
  },
  {
   "cell_type": "markdown",
   "metadata": {},
   "source": [
    "## Summarizing a Series\n",
    "\n",
    "### Summary Methods\n",
    "\n",
    "The easiest way to summarize a specific series is by using bracket subsetting notation and the built-in Series methods:"
   ]
  },
  {
   "cell_type": "code",
   "execution_count": 3,
   "metadata": {},
   "outputs": [
    {
     "data": {
      "text/plain": [
       "350217607"
      ]
     },
     "execution_count": 3,
     "metadata": {},
     "output_type": "execute_result"
    }
   ],
   "source": [
    "flights_df['distance'].sum()"
   ]
  },
  {
   "cell_type": "markdown",
   "metadata": {},
   "source": [
    "Note that a *single value* was returned because this is a **summary operation** -- we are summing the `distance` variable across all rows.\n",
    "\n",
    "There are other summary methods with a series:"
   ]
  },
  {
   "cell_type": "code",
   "execution_count": 4,
   "metadata": {},
   "outputs": [
    {
     "data": {
      "text/plain": [
       "1039.9126036297123"
      ]
     },
     "execution_count": 4,
     "metadata": {},
     "output_type": "execute_result"
    }
   ],
   "source": [
    "flights_df['distance'].mean()"
   ]
  },
  {
   "cell_type": "code",
   "execution_count": 5,
   "metadata": {},
   "outputs": [
    {
     "data": {
      "text/plain": [
       "872.0"
      ]
     },
     "execution_count": 5,
     "metadata": {},
     "output_type": "execute_result"
    }
   ],
   "source": [
    "flights_df['distance'].median()"
   ]
  },
  {
   "cell_type": "code",
   "execution_count": 6,
   "metadata": {},
   "outputs": [
    {
     "data": {
      "text/plain": [
       "0    2475\n",
       "dtype: int64"
      ]
     },
     "execution_count": 6,
     "metadata": {},
     "output_type": "execute_result"
    }
   ],
   "source": [
    "flights_df['distance'].mode()"
   ]
  },
  {
   "cell_type": "markdown",
   "metadata": {},
   "source": [
    "All of the above methods work on quantitative variables, but we also have methods for character variables:"
   ]
  },
  {
   "cell_type": "code",
   "execution_count": 12,
   "metadata": {},
   "outputs": [
    {
     "data": {
      "text/plain": [
       "UA    58665\n",
       "B6    54635\n",
       "EV    54173\n",
       "DL    48110\n",
       "AA    32729\n",
       "MQ    26397\n",
       "US    20536\n",
       "9E    18460\n",
       "WN    12275\n",
       "VX     5162\n",
       "FL     3260\n",
       "AS      714\n",
       "F9      685\n",
       "YV      601\n",
       "HA      342\n",
       "OO       32\n",
       "Name: carrier, dtype: int64"
      ]
     },
     "execution_count": 12,
     "metadata": {},
     "output_type": "execute_result"
    }
   ],
   "source": [
    "flights_df['carrier'].value_counts()"
   ]
  },
  {
   "cell_type": "markdown",
   "metadata": {},
   "source": [
    "While the above isn't *technically* returning a single value, it's still a useful Series method."
   ]
  },
  {
   "cell_type": "markdown",
   "metadata": {},
   "source": [
    "### Describe Method\n",
    "\n",
    "There is also a method `describe()` that provides a lot of this information -- this is especially useful in exploratory data analysis."
   ]
  },
  {
   "cell_type": "code",
   "execution_count": 8,
   "metadata": {},
   "outputs": [
    {
     "data": {
      "text/plain": [
       "count    336776.000000\n",
       "mean       1039.912604\n",
       "std         733.233033\n",
       "min          17.000000\n",
       "25%         502.000000\n",
       "50%         872.000000\n",
       "75%        1389.000000\n",
       "max        4983.000000\n",
       "Name: distance, dtype: float64"
      ]
     },
     "execution_count": 8,
     "metadata": {},
     "output_type": "execute_result"
    }
   ],
   "source": [
    "flights_df['distance'].describe()"
   ]
  },
  {
   "cell_type": "markdown",
   "metadata": {},
   "source": [
    "Note that `describe()` will return different results depending on the `type` of the Series:"
   ]
  },
  {
   "cell_type": "code",
   "execution_count": 10,
   "metadata": {},
   "outputs": [
    {
     "data": {
      "text/plain": [
       "count     336776\n",
       "unique        16\n",
       "top           UA\n",
       "freq       58665\n",
       "Name: carrier, dtype: object"
      ]
     },
     "execution_count": 10,
     "metadata": {},
     "output_type": "execute_result"
    }
   ],
   "source": [
    "flights_df['carrier'].describe()"
   ]
  },
  {
   "cell_type": "markdown",
   "metadata": {},
   "source": [
    "## Summarizing a DataFrame"
   ]
  },
  {
   "cell_type": "code",
   "execution_count": null,
   "metadata": {},
   "outputs": [],
   "source": []
  }
 ],
 "metadata": {
  "kernelspec": {
   "display_name": "Python 3",
   "language": "python",
   "name": "python3"
  },
  "language_info": {
   "codemirror_mode": {
    "name": "ipython",
    "version": 3
   },
   "file_extension": ".py",
   "mimetype": "text/x-python",
   "name": "python",
   "nbconvert_exporter": "python",
   "pygments_lexer": "ipython3",
   "version": "3.6.5"
  }
 },
 "nbformat": 4,
 "nbformat_minor": 2
}
