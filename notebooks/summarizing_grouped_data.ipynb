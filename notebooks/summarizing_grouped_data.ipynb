{
 "cells": [
  {
   "cell_type": "markdown",
   "metadata": {},
   "source": [
    "# Summarizing Grouped Data\n",
    "\n",
    "> A quote about summarizing grouped data\n",
    ">\n",
    "> \\- The person that said the quote\n",
    "\n",
    "## Applied Review\n",
    "\n",
    "### DataFrame Structure\n",
    "\n",
    "* We will start by importing the `planes` data set as a DataFrame:"
   ]
  },
  {
   "cell_type": "code",
   "execution_count": 1,
   "metadata": {},
   "outputs": [],
   "source": [
    "import pandas as pd\n",
    "planes_df = pd.read_csv('../data/planes.csv')"
   ]
  },
  {
   "cell_type": "markdown",
   "metadata": {},
   "source": [
    "* Each DataFrame variable is a **Series** and can be accessed with bracket subsetting notation: `DataFrame['SeriesName']`\n",
    "* The DataFrame has an **Index** that is visible the far left side and can be used to slide the DataFrame\n",
    "\n",
    "### Summary Operations\n",
    "\n",
    "* Summary operations occur when we collapse a Series or DataFrame down to a single row\n",
    "* This is an aggregation of a variable across its rows\n",
    "\n",
    "![aggregate-series.png](images/aggregate-series.png)\n",
    "\n",
    "### Summarizing Data Frames\n",
    "\n",
    "* We can perform summary operations on DataFrames in a number of ways:\n",
    "  * Summary methods for a specific summary operation: `python DataFrame.sum()`\n",
    "  * Describe method for a collection of summary operations: `python DataFrame.describe()`\n",
    "  * Agg method for flexibility in summary operations: `python DataFrame.agg({'VariableName': ['sum', 'mean']})`\n",
    "  \n",
    "  \n",
    "* An example of the agg method:"
   ]
  },
  {
   "cell_type": "code",
   "execution_count": 2,
   "metadata": {},
   "outputs": [
    {
     "data": {
      "text/html": [
       "<div>\n",
       "<style scoped>\n",
       "    .dataframe tbody tr th:only-of-type {\n",
       "        vertical-align: middle;\n",
       "    }\n",
       "\n",
       "    .dataframe tbody tr th {\n",
       "        vertical-align: top;\n",
       "    }\n",
       "\n",
       "    .dataframe thead th {\n",
       "        text-align: right;\n",
       "    }\n",
       "</style>\n",
       "<table border=\"1\" class=\"dataframe\">\n",
       "  <thead>\n",
       "    <tr style=\"text-align: right;\">\n",
       "      <th></th>\n",
       "      <th>year</th>\n",
       "      <th>seats</th>\n",
       "    </tr>\n",
       "  </thead>\n",
       "  <tbody>\n",
       "    <tr>\n",
       "      <th>max</th>\n",
       "      <td>NaN</td>\n",
       "      <td>450.000000</td>\n",
       "    </tr>\n",
       "    <tr>\n",
       "      <th>mean</th>\n",
       "      <td>2000.48401</td>\n",
       "      <td>154.316376</td>\n",
       "    </tr>\n",
       "    <tr>\n",
       "      <th>median</th>\n",
       "      <td>2001.00000</td>\n",
       "      <td>NaN</td>\n",
       "    </tr>\n",
       "  </tbody>\n",
       "</table>\n",
       "</div>"
      ],
      "text/plain": [
       "              year       seats\n",
       "max            NaN  450.000000\n",
       "mean    2000.48401  154.316376\n",
       "median  2001.00000         NaN"
      ]
     },
     "execution_count": 2,
     "metadata": {},
     "output_type": "execute_result"
    }
   ],
   "source": [
    "planes_df.agg({\n",
    "    'year': ['mean', 'median'],\n",
    "    'seats': ['mean', 'max']\n",
    "})"
   ]
  },
  {
   "cell_type": "markdown",
   "metadata": {},
   "source": [
    "* We will primarily use the agg method moving forward."
   ]
  },
  {
   "cell_type": "markdown",
   "metadata": {},
   "source": [
    "## General Model\n",
    "\n",
    "### Variable Groups\n",
    "\n",
    "### Summarizing by Groups\n",
    "\n",
    "## Summarizing Grouped Data\n",
    "\n",
    "### Groups as Index\n",
    "\n",
    "### Groups as Variables"
   ]
  }
 ],
 "metadata": {
  "kernelspec": {
   "display_name": "Python 3",
   "language": "python",
   "name": "python3"
  },
  "language_info": {
   "codemirror_mode": {
    "name": "ipython",
    "version": 3
   },
   "file_extension": ".py",
   "mimetype": "text/x-python",
   "name": "python",
   "nbconvert_exporter": "python",
   "pygments_lexer": "ipython3",
   "version": "3.6.5"
  }
 },
 "nbformat": 4,
 "nbformat_minor": 2
}
