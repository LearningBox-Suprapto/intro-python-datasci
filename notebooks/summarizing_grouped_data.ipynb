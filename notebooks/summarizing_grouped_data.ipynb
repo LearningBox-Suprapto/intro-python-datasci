{
 "cells": [
  {
   "cell_type": "markdown",
   "metadata": {},
   "source": [
    "# Summarizing Grouped Data\n",
    "\n",
    "> A quote about summarizing grouped data\n",
    ">\n",
    "> \\- The person that said the quote\n",
    "\n",
    "## Applied Review\n",
    "\n",
    "### DataFrame Structure\n",
    "\n",
    "* We will start by importing the `planes` data set as a DataFrame:"
   ]
  },
  {
   "cell_type": "code",
   "execution_count": 1,
   "metadata": {},
   "outputs": [],
   "source": [
    "import pandas as pd\n",
    "planes_df = pd.read_csv('../data/planes.csv')"
   ]
  },
  {
   "cell_type": "markdown",
   "metadata": {},
   "source": [
    "* Each DataFrame variable is a **Series** and can be accessed with bracket subsetting notation: `DataFrame['SeriesName']`\n",
    "* The DataFrame has an **Index** that is visible the far left side and can be used to slide the DataFrame\n",
    "\n",
    "### Summary Operations\n",
    "\n",
    "* Summary operations occur when we collapse a Series or DataFrame down to a single row\n",
    "* This is an aggregation of a variable across its rows\n",
    "\n",
    "![aggregate-series.png](images/aggregate-series.png)\n",
    "\n",
    "### Summarizing Data Frames\n",
    "\n",
    "* We can perform summary operations on DataFrames in a number of ways:\n",
    "  * Summary methods for a specific summary operation: `python DataFrame.sum()`\n",
    "  * Describe method for a collection of summary operations: `python DataFrame.describe()`\n",
    "  * Agg method for flexibility in summary operations: `python DataFrame.agg({'VariableName': ['sum', 'mean']})`\n",
    "  \n",
    "  \n",
    "* An example of the agg method:"
   ]
  },
  {
   "cell_type": "code",
   "execution_count": 2,
   "metadata": {},
   "outputs": [
    {
     "data": {
      "text/html": [
       "<div>\n",
       "<style scoped>\n",
       "    .dataframe tbody tr th:only-of-type {\n",
       "        vertical-align: middle;\n",
       "    }\n",
       "\n",
       "    .dataframe tbody tr th {\n",
       "        vertical-align: top;\n",
       "    }\n",
       "\n",
       "    .dataframe thead th {\n",
       "        text-align: right;\n",
       "    }\n",
       "</style>\n",
       "<table border=\"1\" class=\"dataframe\">\n",
       "  <thead>\n",
       "    <tr style=\"text-align: right;\">\n",
       "      <th></th>\n",
       "      <th>year</th>\n",
       "      <th>seats</th>\n",
       "    </tr>\n",
       "  </thead>\n",
       "  <tbody>\n",
       "    <tr>\n",
       "      <th>max</th>\n",
       "      <td>NaN</td>\n",
       "      <td>450.000000</td>\n",
       "    </tr>\n",
       "    <tr>\n",
       "      <th>mean</th>\n",
       "      <td>2000.48401</td>\n",
       "      <td>154.316376</td>\n",
       "    </tr>\n",
       "    <tr>\n",
       "      <th>median</th>\n",
       "      <td>2001.00000</td>\n",
       "      <td>NaN</td>\n",
       "    </tr>\n",
       "  </tbody>\n",
       "</table>\n",
       "</div>"
      ],
      "text/plain": [
       "              year       seats\n",
       "max            NaN  450.000000\n",
       "mean    2000.48401  154.316376\n",
       "median  2001.00000         NaN"
      ]
     },
     "execution_count": 2,
     "metadata": {},
     "output_type": "execute_result"
    }
   ],
   "source": [
    "planes_df.agg({\n",
    "    'year': ['mean', 'median'],\n",
    "    'seats': ['mean', 'max']\n",
    "})"
   ]
  },
  {
   "cell_type": "markdown",
   "metadata": {},
   "source": [
    "* We will primarily use the agg method moving forward."
   ]
  },
  {
   "cell_type": "markdown",
   "metadata": {},
   "source": [
    "## General Model\n",
    "\n",
    "### Variable Groups\n",
    "\n",
    "* We can group DataFrame rows together by the value in a Series/variable:\n",
    "\n",
    "![dataframe-groups.png](images/dataframe-groups.png)\n",
    "\n",
    "* If we \"group by A\", then rows with the same value in variable A are in the same group\n",
    "* Note that groups do not need to be ordered by their values:\n",
    "\n",
    "![dataframe-groups-unordered.png](images/dataframe-groups-unordered.png)\n",
    "\n",
    "<font style=\"color:#008;\">\n",
    "    <strong>Question</strong>:<br><em>Why might we be interested in grouping by a variable?</em>\n",
    "</font>\n",
    "\n",
    "### Summarizing by Groups\n",
    "\n",
    "* When we've talked about **summary** opertions, we've talked about collapsing a DataFrame to a single row\n",
    "* This is not always the case -- we sometimes collapse to a *single row per group*\n",
    "* This is known as a grouped aggregation:\n",
    "\n",
    "![summarizing-by-groups.png](images/summarizing-by-groups.png)\n",
    "\n",
    "* This can be useful when we want to find do an aggregation by cateogory:\n",
    "  * Maximum temperature *by month*\n",
    "  * Total home runs *by team*\n",
    "  * Average number of seats by plane manufacturer\n",
    "\n",
    "## Summarizing Grouped Data\n",
    "\n",
    "* When we summarize by groups, we can use the same aggregation methods we previously did\n",
    "  * Summary methods for a specific summary operation: `python DataFrame.sum()`\n",
    "  * Describe method for a collection of summary operations: `python DataFrame.describe()`\n",
    "  * Agg method for flexibility in summary operations: `python DataFrame.agg({'VariableName': ['sum', 'mean']})`\n",
    "* The only difference is the need to set the DataFrame group prior to aggregating\n",
    "\n",
    "### Setting the DataFrame Group\n",
    "\n",
    "* We can set the DataFrame group by calling the `DataFrame.groupby()` method and passing a variable name:"
   ]
  },
  {
   "cell_type": "code",
   "execution_count": 3,
   "metadata": {},
   "outputs": [
    {
     "data": {
      "text/plain": [
       "<pandas.core.groupby.groupby.DataFrameGroupBy object at 0x10cfa7a58>"
      ]
     },
     "execution_count": 3,
     "metadata": {},
     "output_type": "execute_result"
    }
   ],
   "source": [
    "planes_df.groupby('model')"
   ]
  },
  {
   "cell_type": "markdown",
   "metadata": {},
   "source": [
    "* Notice that a DataFrame doesn't print when it's grouped\n",
    "* The `groupby()` method is just setting the group - you can see the changed DataFrame class:"
   ]
  },
  {
   "cell_type": "code",
   "execution_count": 4,
   "metadata": {},
   "outputs": [
    {
     "data": {
      "text/plain": [
       "pandas.core.groupby.groupby.DataFrameGroupBy"
      ]
     },
     "execution_count": 4,
     "metadata": {},
     "output_type": "execute_result"
    }
   ],
   "source": [
    "type(planes_df.groupby('model'))"
   ]
  },
  {
   "cell_type": "markdown",
   "metadata": {},
   "source": [
    "* If we then call an aggregation method, we will see the DataFrame returned with the aggregated results:"
   ]
  },
  {
   "cell_type": "code",
   "execution_count": 9,
   "metadata": {},
   "outputs": [
    {
     "data": {
      "text/html": [
       "<div>\n",
       "<style scoped>\n",
       "    .dataframe tbody tr th:only-of-type {\n",
       "        vertical-align: middle;\n",
       "    }\n",
       "\n",
       "    .dataframe tbody tr th {\n",
       "        vertical-align: top;\n",
       "    }\n",
       "\n",
       "    .dataframe thead tr th {\n",
       "        text-align: left;\n",
       "    }\n",
       "\n",
       "    .dataframe thead tr:last-of-type th {\n",
       "        text-align: right;\n",
       "    }\n",
       "</style>\n",
       "<table border=\"1\" class=\"dataframe\">\n",
       "  <thead>\n",
       "    <tr>\n",
       "      <th></th>\n",
       "      <th colspan=\"2\" halign=\"left\">seats</th>\n",
       "    </tr>\n",
       "    <tr>\n",
       "      <th></th>\n",
       "      <th>mean</th>\n",
       "      <th>max</th>\n",
       "    </tr>\n",
       "    <tr>\n",
       "      <th>manufacturer</th>\n",
       "      <th></th>\n",
       "      <th></th>\n",
       "    </tr>\n",
       "  </thead>\n",
       "  <tbody>\n",
       "    <tr>\n",
       "      <th>AGUSTA SPA</th>\n",
       "      <td>8.000000</td>\n",
       "      <td>8</td>\n",
       "    </tr>\n",
       "    <tr>\n",
       "      <th>AIRBUS</th>\n",
       "      <td>221.202381</td>\n",
       "      <td>379</td>\n",
       "    </tr>\n",
       "    <tr>\n",
       "      <th>AIRBUS INDUSTRIE</th>\n",
       "      <td>187.402500</td>\n",
       "      <td>379</td>\n",
       "    </tr>\n",
       "    <tr>\n",
       "      <th>AMERICAN AIRCRAFT INC</th>\n",
       "      <td>2.000000</td>\n",
       "      <td>2</td>\n",
       "    </tr>\n",
       "    <tr>\n",
       "      <th>AVIAT AIRCRAFT INC</th>\n",
       "      <td>2.000000</td>\n",
       "      <td>2</td>\n",
       "    </tr>\n",
       "  </tbody>\n",
       "</table>\n",
       "</div>"
      ],
      "text/plain": [
       "                            seats     \n",
       "                             mean  max\n",
       "manufacturer                          \n",
       "AGUSTA SPA               8.000000    8\n",
       "AIRBUS                 221.202381  379\n",
       "AIRBUS INDUSTRIE       187.402500  379\n",
       "AMERICAN AIRCRAFT INC    2.000000    2\n",
       "AVIAT AIRCRAFT INC       2.000000    2"
      ]
     },
     "execution_count": 9,
     "metadata": {},
     "output_type": "execute_result"
    }
   ],
   "source": [
    "planes_df.groupby('manufacturer').agg({'seats': ['mean', 'max']}).head()"
   ]
  },
  {
   "cell_type": "markdown",
   "metadata": {},
   "source": [
    "* This process always follows this model:\n",
    "\n",
    "![model-for-grouped-aggs.png](images/model-for-grouped-aggs.png)"
   ]
  },
  {
   "cell_type": "markdown",
   "metadata": {},
   "source": [
    "* **Notice that the grouped variable becomes the Index in our example!**"
   ]
  },
  {
   "cell_type": "markdown",
   "metadata": {},
   "source": [
    "#### Groups as Variables\n",
    "\n",
    "* We frequently don't want the grouped variable to become the Index\n",
    "* The grouped variable can remain a Series/variable by adding the `by_index = False` parameter/argument to `groupby()`:"
   ]
  },
  {
   "cell_type": "code",
   "execution_count": 8,
   "metadata": {},
   "outputs": [
    {
     "data": {
      "text/html": [
       "<div>\n",
       "<style scoped>\n",
       "    .dataframe tbody tr th:only-of-type {\n",
       "        vertical-align: middle;\n",
       "    }\n",
       "\n",
       "    .dataframe tbody tr th {\n",
       "        vertical-align: top;\n",
       "    }\n",
       "\n",
       "    .dataframe thead tr th {\n",
       "        text-align: left;\n",
       "    }\n",
       "</style>\n",
       "<table border=\"1\" class=\"dataframe\">\n",
       "  <thead>\n",
       "    <tr>\n",
       "      <th></th>\n",
       "      <th>manufacturer</th>\n",
       "      <th colspan=\"2\" halign=\"left\">seats</th>\n",
       "    </tr>\n",
       "    <tr>\n",
       "      <th></th>\n",
       "      <th></th>\n",
       "      <th>mean</th>\n",
       "      <th>max</th>\n",
       "    </tr>\n",
       "  </thead>\n",
       "  <tbody>\n",
       "    <tr>\n",
       "      <th>0</th>\n",
       "      <td>AGUSTA SPA</td>\n",
       "      <td>8.000000</td>\n",
       "      <td>8</td>\n",
       "    </tr>\n",
       "    <tr>\n",
       "      <th>1</th>\n",
       "      <td>AIRBUS</td>\n",
       "      <td>221.202381</td>\n",
       "      <td>379</td>\n",
       "    </tr>\n",
       "    <tr>\n",
       "      <th>2</th>\n",
       "      <td>AIRBUS INDUSTRIE</td>\n",
       "      <td>187.402500</td>\n",
       "      <td>379</td>\n",
       "    </tr>\n",
       "    <tr>\n",
       "      <th>3</th>\n",
       "      <td>AMERICAN AIRCRAFT INC</td>\n",
       "      <td>2.000000</td>\n",
       "      <td>2</td>\n",
       "    </tr>\n",
       "    <tr>\n",
       "      <th>4</th>\n",
       "      <td>AVIAT AIRCRAFT INC</td>\n",
       "      <td>2.000000</td>\n",
       "      <td>2</td>\n",
       "    </tr>\n",
       "  </tbody>\n",
       "</table>\n",
       "</div>"
      ],
      "text/plain": [
       "            manufacturer       seats     \n",
       "                                mean  max\n",
       "0             AGUSTA SPA    8.000000    8\n",
       "1                 AIRBUS  221.202381  379\n",
       "2       AIRBUS INDUSTRIE  187.402500  379\n",
       "3  AMERICAN AIRCRAFT INC    2.000000    2\n",
       "4     AVIAT AIRCRAFT INC    2.000000    2"
      ]
     },
     "execution_count": 8,
     "metadata": {},
     "output_type": "execute_result"
    }
   ],
   "source": [
    "planes_df.groupby('manufacturer', as_index = False).agg({'seats': ['mean', 'max']}).head()"
   ]
  },
  {
   "cell_type": "markdown",
   "metadata": {},
   "source": [
    "### Grouping by Multiple Variables\n",
    "\n",
    "* Sometimes we have multiple categories by which we'd like to group\n",
    "* To extend our example, assume we want to find the average number of seats by plane manufacturer AND plane year\n",
    "* We can pass a list of variable names to the `groupby()` method:"
   ]
  },
  {
   "cell_type": "code",
   "execution_count": 11,
   "metadata": {},
   "outputs": [
    {
     "data": {
      "text/html": [
       "<div>\n",
       "<style scoped>\n",
       "    .dataframe tbody tr th:only-of-type {\n",
       "        vertical-align: middle;\n",
       "    }\n",
       "\n",
       "    .dataframe tbody tr th {\n",
       "        vertical-align: top;\n",
       "    }\n",
       "\n",
       "    .dataframe thead tr th {\n",
       "        text-align: left;\n",
       "    }\n",
       "</style>\n",
       "<table border=\"1\" class=\"dataframe\">\n",
       "  <thead>\n",
       "    <tr>\n",
       "      <th></th>\n",
       "      <th>manufacturer</th>\n",
       "      <th>year</th>\n",
       "      <th colspan=\"2\" halign=\"left\">seats</th>\n",
       "    </tr>\n",
       "    <tr>\n",
       "      <th></th>\n",
       "      <th></th>\n",
       "      <th></th>\n",
       "      <th>mean</th>\n",
       "      <th>max</th>\n",
       "    </tr>\n",
       "  </thead>\n",
       "  <tbody>\n",
       "    <tr>\n",
       "      <th>0</th>\n",
       "      <td>AGUSTA SPA</td>\n",
       "      <td>2001.0</td>\n",
       "      <td>8.000000</td>\n",
       "      <td>8</td>\n",
       "    </tr>\n",
       "    <tr>\n",
       "      <th>1</th>\n",
       "      <td>AIRBUS</td>\n",
       "      <td>2002.0</td>\n",
       "      <td>173.800000</td>\n",
       "      <td>200</td>\n",
       "    </tr>\n",
       "    <tr>\n",
       "      <th>2</th>\n",
       "      <td>AIRBUS</td>\n",
       "      <td>2003.0</td>\n",
       "      <td>174.966667</td>\n",
       "      <td>200</td>\n",
       "    </tr>\n",
       "    <tr>\n",
       "      <th>3</th>\n",
       "      <td>AIRBUS</td>\n",
       "      <td>2004.0</td>\n",
       "      <td>217.000000</td>\n",
       "      <td>379</td>\n",
       "    </tr>\n",
       "    <tr>\n",
       "      <th>4</th>\n",
       "      <td>AIRBUS</td>\n",
       "      <td>2005.0</td>\n",
       "      <td>197.000000</td>\n",
       "      <td>379</td>\n",
       "    </tr>\n",
       "  </tbody>\n",
       "</table>\n",
       "</div>"
      ],
      "text/plain": [
       "  manufacturer    year       seats     \n",
       "                              mean  max\n",
       "0   AGUSTA SPA  2001.0    8.000000    8\n",
       "1       AIRBUS  2002.0  173.800000  200\n",
       "2       AIRBUS  2003.0  174.966667  200\n",
       "3       AIRBUS  2004.0  217.000000  379\n",
       "4       AIRBUS  2005.0  197.000000  379"
      ]
     },
     "execution_count": 11,
     "metadata": {},
     "output_type": "execute_result"
    }
   ],
   "source": [
    "planes_df.groupby(['manufacturer', 'year'], as_index = False).agg({'seats': ['mean', 'max']}).head()"
   ]
  },
  {
   "cell_type": "markdown",
   "metadata": {},
   "source": [
    "### Your Turn\n",
    "\n",
    "1\\. What is meant by \"find the minimum number of seats by plane year\"?\n",
    "\n",
    "2\\. Fix the below code to find the minimum number of seats by plane year:\n",
    "\n",
    "   ```python\n",
    "   planes_df.groupby('_____', by_index = False).agg({'_____': ['min']})\n",
    "   ```\n",
    "   \n",
    "# Questions\n",
    "\n",
    "Are there any questions before we move on?"
   ]
  }
 ],
 "metadata": {
  "kernelspec": {
   "display_name": "Python 3",
   "language": "python",
   "name": "python3"
  },
  "language_info": {
   "codemirror_mode": {
    "name": "ipython",
    "version": 3
   },
   "file_extension": ".py",
   "mimetype": "text/x-python",
   "name": "python",
   "nbconvert_exporter": "python",
   "pygments_lexer": "ipython3",
   "version": "3.6.5"
  }
 },
 "nbformat": 4,
 "nbformat_minor": 2
}
